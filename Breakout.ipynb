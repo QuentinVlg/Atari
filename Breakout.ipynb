{
 "cells": [
  {
   "cell_type": "markdown",
   "metadata": {
    "colab_type": "text",
    "id": "vEbPyfB0ukoh"
   },
   "source": [
    "# Breakout 🎮🕹️\n",
    "\n",
    "\n",
    "## Packages"
   ]
  },
  {
   "cell_type": "code",
   "execution_count": 2,
   "metadata": {
    "colab": {
     "base_uri": "https://localhost:8080/",
     "height": 544
    },
    "colab_type": "code",
    "id": "X1_rxWxBen-M",
    "outputId": "5bbae283-5b95-46f1-aff8-c2d245029b2f"
   },
   "outputs": [],
   "source": [
    "#!pip install gym[atari]"
   ]
  },
  {
   "cell_type": "code",
   "execution_count": 1,
   "metadata": {
    "colab": {
     "base_uri": "https://localhost:8080/",
     "height": 34
    },
    "colab_type": "code",
    "id": "kHSYEB5wuoVE",
    "outputId": "1ab9fe8f-c5cd-4363-a25a-51d3115bfab1"
   },
   "outputs": [
    {
     "name": "stderr",
     "output_type": "stream",
     "text": [
      "/usr/local/insa/anaconda/envs/GPU/lib/python3.6/site-packages/h5py/__init__.py:36: FutureWarning: Conversion of the second argument of issubdtype from `float` to `np.floating` is deprecated. In future, it will be treated as `np.float64 == np.dtype(float).type`.\n",
      "  from ._conv import register_converters as _register_converters\n",
      "Using TensorFlow backend.\n"
     ]
    }
   ],
   "source": [
    "import random\n",
    "import gym\n",
    "import numpy as np\n",
    "import matplotlib.pyplot as plt \n",
    "import time\n",
    "from collections import deque\n",
    "from keras.models import Sequential\n",
    "from keras.layers import Dense, Flatten\n",
    "from keras.layers import Conv2D, MaxPooling2D\n",
    "from keras.optimizers import Adam"
   ]
  },
  {
   "cell_type": "code",
   "execution_count": 2,
   "metadata": {},
   "outputs": [],
   "source": [
    "import os\n",
    "root = os.getcwd()\n",
    "root = \"/home/villegas/Documents/projet_5gmm/Atari\"\n",
    "save = \"/home/villegas/Documents/projet_5gmm/Atari/save\"\n",
    "os.chdir(save)"
   ]
  },
  {
   "cell_type": "markdown",
   "metadata": {
    "colab_type": "text",
    "id": "VmBsgLBKu61a"
   },
   "source": [
    "## Class Agent"
   ]
  },
  {
   "cell_type": "code",
   "execution_count": 3,
   "metadata": {
    "colab": {},
    "colab_type": "code",
    "id": "PkDxhKc5vA6A"
   },
   "outputs": [],
   "source": [
    "class DQN_Breakout_Agent:\n",
    "    def __init__(self, action_size):\n",
    "        self.samples_frame_size = 4\n",
    "        self.state_size = (84, 74, self.samples_frame_size)\n",
    "        self.action_size = action_size\n",
    "        \n",
    "        self.memory = deque(maxlen=10001)\n",
    "        self.gamma = 0.95    # discount rate\n",
    "        self.epsilon = 1.0  # exploration rate\n",
    "        self.epsilon_min = 0.01\n",
    "        self.epsilon_decay = 0.99995\n",
    "        self.learning_rate = 0.001\n",
    "        self.model = self._build_model()\n",
    "        self.current_state = deque(maxlen=self.samples_frame_size) # processing batch of frames\n",
    "\n",
    "    def _build_model(self):\n",
    "        # Neural Net for Deep-Q learning Model\n",
    "        model = Sequential()\n",
    "        model.add(Conv2D(32, (3,3), strides=(2, 2), \n",
    "                         input_shape=self.state_size, activation='relu'))\n",
    "        # add BatchNormalisation ?\n",
    "        model.add(Conv2D(32, (3,3), activation='relu'))\n",
    "        model.add(MaxPooling2D(pool_size=(2, 2)))\n",
    "        model.add(Flatten())\n",
    "        model.add(Dense(256, activation='relu'))\n",
    "        model.add(Dense(self.action_size, activation='linear'))\n",
    "        model.compile(loss='mse',optimizer=Adam(lr=0.001))\n",
    "        \n",
    "        \"\"\"\n",
    "        (None, 84, 74, 4)\n",
    "        (None, 41, 36, 32)\n",
    "        (None, 39, 34, 32)\n",
    "        (None, 19, 17, 32)\n",
    "        (None, 10336)\n",
    "        (None, 256)\n",
    "        (None, 4)\n",
    "        \"\"\"\n",
    "        return model\n",
    "    \n",
    "    # enregistre ce qu'il a fait et stock dans son deque(=liste avec limite)\n",
    "    def remember(self, state, action, reward, next_frame, done):\n",
    "        # state -> deque 4x84x74\n",
    "        # next_frame -> array 84x74\n",
    "        \n",
    "        # between the current_state and the next one, 3 frames are the same and don't\n",
    "        # need to stored twice -> let's just store the new frame on the next state\n",
    "        self.memory.append((state, action, reward, next_frame, done))\n",
    "\n",
    "    def act(self, state):\n",
    "        if np.random.rand() <= self.epsilon:\n",
    "            return random.randrange(self.action_size) # Hazard\n",
    "        else :\n",
    "            # Approximation de la ligne de la Q table avec le réseau de neurone\n",
    "            batch_state = deque_to_batch(state)\n",
    "            act_values = self.model.predict(batch_state) # Keras need a 1x84x74x4 batch\n",
    "            return np.argmax(act_values[0])  # returns action ()\n",
    "    \n",
    "    def learn(self, state, action, reward, next_frame, done):\n",
    "        batch_state = deque_to_batch(state)\n",
    "        next_state = state\n",
    "        next_state.append(next_frame)\n",
    "        batch_next_state = deque_to_batch(next_state)\n",
    "        \n",
    "        target = reward\n",
    "        if not done:\n",
    "            target = (reward + self.gamma *\n",
    "                      np.amax(self.model.predict(batch_next_state)[0]))\n",
    "        target_f = self.model.predict(batch_state)\n",
    "        target_f[0][action] = target\n",
    "        self.model.fit(batch_state, target_f, epochs=1, verbose=0)\n",
    "        \n",
    "    # Rejoue et apprend batch_size événement au hazard dans son deque\n",
    "    def replay(self, batch_size):\n",
    "        minibatch = random.sample(self.memory, batch_size)\n",
    "        for state, action, reward, next_frame, done in minibatch:\n",
    "            self.learn(state, action, reward, next_frame, done)\n",
    "            \n",
    "    def refresh(self):\n",
    "        if self.epsilon > self.epsilon_min :\n",
    "            self.epsilon *= self.epsilon_decay\n",
    "            \n",
    "    # On initialise en écrasant tout     \n",
    "    def init_current_state(self, frm):\n",
    "        for i in range(self.samples_frame_size):\n",
    "            self.current_state.append(frm)\n",
    "        return self.current_state\n",
    "    \n",
    "    # update the 4 current batch frames\n",
    "    def update_current_state(self, next_frame):\n",
    "        self.current_state.append(next_frame)\n",
    "        return self.current_state\n",
    "    \n",
    "    # Return an 1x84x74x4 batch\n",
    "    def get_frame_stack(self):\n",
    "        return np.copy(np.array([self.frame_stack]))\n",
    "\n",
    "    # Loading or saving neural network weights\n",
    "    def load(self, name):\n",
    "        self.model.load_weights(name)\n",
    "    def save(self, name):\n",
    "        self.model.save_weights(name)"
   ]
  },
  {
   "cell_type": "markdown",
   "metadata": {
    "colab_type": "text",
    "id": "wgnITQvU61AS"
   },
   "source": [
    "## New fonctions"
   ]
  },
  {
   "cell_type": "code",
   "execution_count": 4,
   "metadata": {
    "colab": {},
    "colab_type": "code",
    "id": "v3bARQla61Gb"
   },
   "outputs": [],
   "source": [
    "def preprocessing(img):\n",
    "    \"\"\"\n",
    "    Gray-scale, reduce edges and down-sampling img to a 84×74 image\n",
    "    \"\"\"\n",
    "    return np.mean(img, axis=2).astype(np.uint8)[30:-12,6:-6][::2,::2]\n",
    "\n",
    "def reward_clipping(reward):\n",
    "    \"\"\"\n",
    "    reward: negative -> -1; positive -> +1\n",
    "    \"\"\"\n",
    "    return np.sign(reward)\n",
    "\n",
    "def deque_to_batch(deque):\n",
    "    \"\"\"\n",
    "    from frame_stack 4x84x74 to normalized batch 1x84x74x4\n",
    "    \"\"\"\n",
    "    array_frame_stack = np.array(deque)              # convert deque into 4x84x74 array\n",
    "    array_frame_stack = np.moveaxis(array_frame_stack,0,-1) # from 4x84x74 to 84x74x4\n",
    "    array_frame_stack = array_frame_stack / 255      # normalize from [0,255] to [0,1]\n",
    "    return np.expand_dims(array_frame_stack, axis=0) # add one dimension: 1x84x74x4 array"
   ]
  },
  {
   "cell_type": "markdown",
   "metadata": {
    "colab_type": "text",
    "id": "J20zUd7kfTm4"
   },
   "source": [
    "## Main"
   ]
  },
  {
   "cell_type": "code",
   "execution_count": 5,
   "metadata": {
    "colab": {
     "base_uri": "https://localhost:8080/",
     "height": 85
    },
    "colab_type": "code",
    "id": "MpYuPMxOfZ66",
    "outputId": "4a129369-9e4a-42c9-b553-28b000809987"
   },
   "outputs": [
    {
     "name": "stdout",
     "output_type": "stream",
     "text": [
      "State size : (210, 160, 3)\n",
      "Action size : 4\n"
     ]
    }
   ],
   "source": [
    "env = gym.make('Breakout-v4')\n",
    "print(\"State size : %s\\nAction size : %s\"%(env.observation_space.shape,env.action_space.n))"
   ]
  },
  {
   "cell_type": "code",
   "execution_count": 6,
   "metadata": {
    "colab": {
     "base_uri": "https://localhost:8080/",
     "height": 1526
    },
    "colab_type": "code",
    "id": "tB9geWjBfTtR",
    "outputId": "ec2028c9-aae7-4129-dde5-dfb5cba5b280",
    "scrolled": true
   },
   "outputs": [
    {
     "name": "stdout",
     "output_type": "stream",
     "text": [
      "episode: 0, previous score average: 0.00, e: 1.00\n",
      "episode: 100, previous score average: 0.20, e: 1.00\n",
      "episode: 200, previous score average: 0.15, e: 1.00\n",
      "episode: 300, previous score average: 0.18, e: 1.00\n",
      "Temps d'execution = 9 min 13.88s\n"
     ]
    }
   ],
   "source": [
    "agent = DQN_Breakout_Agent(action_size = env.action_space.n)\n",
    "\n",
    "EPISODES = 400\n",
    "batch_size = 32\n",
    "TIME_LIMIT = int(1e8)\n",
    "done = False\n",
    "start_decrease_eps = False\n",
    "DISPLAY = True\n",
    "tmps1=time.time()\n",
    "score = 0\n",
    "\n",
    "tt = []\n",
    "for e in range(EPISODES):\n",
    "    color_frame = env.reset()\n",
    "    frame = preprocessing(color_frame)\n",
    "    state = agent.init_current_state(frame) # Pour avoit un deque initiale 4x84x74\n",
    "    \n",
    "    for step in range(TIME_LIMIT):\n",
    "        #env.render()        \n",
    "        action = agent.act(state)\n",
    "        color_next_frame, reward, done, info = env.step(action) # take a action\n",
    "        \n",
    "        # clips rewards to 1 or -1\n",
    "        reward = reward_clipping(reward)\n",
    "        if reward > 0 : score += 1\n",
    "            \n",
    "        # Dès qu'on perd une vie sur les 5, on considère qu'on a perdu\n",
    "        if info['ale.lives'] < 5 :\n",
    "            done = True\n",
    "\n",
    "        # image preprocessing\n",
    "        next_frame = preprocessing(color_next_frame) \n",
    "        \n",
    "        # remember\n",
    "        agent.remember(state, action, reward, next_frame, done)\n",
    "        \n",
    "        # update the current state 4x84x74\n",
    "        state = agent.update_current_state(next_frame)\n",
    "        \n",
    "        # On se souvient tout les 4 coup et si on a joué au moins batch_size fois.\n",
    "        if len(agent.memory) >= 10000 and step%4==0 : \n",
    "            agent.replay(batch_size)# On n'apprend que sur ses souvenirs, pas sur le coup immédiat\n",
    "        \n",
    "        # Stop the current game if it's done\n",
    "        if done :\n",
    "            break\n",
    "            \n",
    "    # update epsillon \n",
    "    if len(agent.memory) >= 10000 :\n",
    "        agent.refresh() \n",
    "    \n",
    "    # Display every 10 episode\n",
    "    if DISPLAY and e%100==0 :\n",
    "        print(\"episode: %s, previous score average: %.2f, e: %.3f\"%(e,score/100,agent.epsilon))\n",
    "        score = 0\n",
    "        \n",
    "    if e % 10000 == 0:\n",
    "        agent.save(\"breakout-dqn.h5\")\n",
    "        \n",
    "    tt.append(time.time()-tmps1)\n",
    "        \n",
    "tmps = time.time()-tmps1\n",
    "print(\"Temps d'execution = %d min %.2fs\" %(tmps//60,tmps%60))\n",
    "env.close()"
   ]
  },
  {
   "cell_type": "markdown",
   "metadata": {},
   "source": [
    "## Graphs"
   ]
  },
  {
   "cell_type": "code",
   "execution_count": 7,
   "metadata": {},
   "outputs": [
    {
     "name": "stdout",
     "output_type": "stream",
     "text": [
      "400\n",
      "400\n"
     ]
    }
   ],
   "source": [
    "print(len(tt))\n",
    "print(len(range(EPISODES)))"
   ]
  },
  {
   "cell_type": "code",
   "execution_count": 26,
   "metadata": {},
   "outputs": [
    {
     "data": {
      "image/png": "[encoded data removed]",
      "text/plain": [
       "<Figure size 432x288 with 1 Axes>"
      ]
     },
     "metadata": {},
     "output_type": "display_data"
    },
    {
     "data": {
      "image/png": "[encoded data removed]",
      "text/plain": [
       "<Figure size 432x288 with 1 Axes>"
      ]
     },
     "metadata": {},
     "output_type": "display_data"
    }
   ],
   "source": [
    "plt.plot(range(EPISODES),tt)\n",
    "plt.xlabel(\"nb episodes\",fontsize=20)\n",
    "plt.ylabel(\"time ($s$)\",fontsize=20)\n",
    "plt.title(\"Cumulative time evolution by episodes\", fontsize=22)\n",
    "plt.show()\n",
    "\n",
    "tt = np.array(tt)\n",
    "plt.plot(range(EPISODES-1),tt[1:]-tt[:-1])\n",
    "plt.xlabel(\"nb episodes\",fontsize=20)\n",
    "plt.ylabel(\"time ($s$)\",fontsize=20)\n",
    "plt.xlabel(\"time\",fontsize=20)\n",
    "plt.title(\"Time evolution by episodes\", fontsize=22)\n",
    "plt.show()"
   ]
  },
  {
   "cell_type": "code",
   "execution_count": 31,
   "metadata": {
    "scrolled": true
   },
   "outputs": [
    {
     "data": {
      "image/png": "[encoded data removed]",
      "text/plain": [
       "<Figure size 432x288 with 1 Axes>"
      ]
     },
     "metadata": {},
     "output_type": "display_data"
    },
    {
     "name": "stdout",
     "output_type": "stream",
     "text": [
      "2.952390260748811\n"
     ]
    }
   ],
   "source": [
    "a = tt[217:]\n",
    "a = a[1:]-a[:-1]\n",
    "plt.plot(a)\n",
    "plt.plot(np.ones(len(a))*np.mean(a))\n",
    "plt.show()\n",
    "print(np.mean(a))"
   ]
  },
  {
   "cell_type": "markdown",
   "metadata": {},
   "source": [
    "Pour une partie à une seule vie:\n",
    "> De 0 à 220 parties -> 0.068 secondes pour faire une partie\n",
    "\n",
    "> Plus de 220 parties -> Il faut en moyenne 3 secondes pour faire une partie"
   ]
  },
  {
   "cell_type": "code",
   "execution_count": 37,
   "metadata": {},
   "outputs": [
    {
     "name": "stdout",
     "output_type": "stream",
     "text": [
      "8.680555555555555\n"
     ]
    }
   ],
   "source": [
    "print(250000*3/60/60/24)"
   ]
  },
  {
   "cell_type": "markdown",
   "metadata": {
    "colab_type": "text",
    "id": "HEOpfax3vBED"
   },
   "source": [
    "## Tests on display"
   ]
  },
  {
   "cell_type": "code",
   "execution_count": 8,
   "metadata": {},
   "outputs": [
    {
     "name": "stdout",
     "output_type": "stream",
     "text": [
      "Temps d'execution = 0min 3.7670135498046875e-05s\n",
      "\n"
     ]
    }
   ],
   "source": [
    "tmps1=time.time()\n",
    "tmps = time.time()-tmps1\n",
    "print(\"Temps d'execution = %dmin %ss\\n\" %(tmps//60,tmps%60))"
   ]
  },
  {
   "cell_type": "code",
   "execution_count": 48,
   "metadata": {
    "colab": {},
    "colab_type": "code",
    "id": "1QDesNUmtnMB"
   },
   "outputs": [],
   "source": [
    "obs = env.reset()\n",
    "obs = np.array(obs)\n",
    "#env.render()\n",
    "I = preprocessing(obs)"
   ]
  },
  {
   "cell_type": "code",
   "execution_count": 49,
   "metadata": {
    "colab": {
     "base_uri": "https://localhost:8080/",
     "height": 655
    },
    "colab_type": "code",
    "id": "Rw3cN6XPwGoZ",
    "outputId": "ebb71709-5a13-464f-c3b8-24a1a4feea87"
   },
   "outputs": [
    {
     "name": "stdout",
     "output_type": "stream",
     "text": [
      "(84, 74)\n",
      "(210, 160, 3)\n"
     ]
    },
    {
     "data": {
      "image/png": "[encoded data removed]",
      "text/plain": [
       "<Figure size 576x756 with 1 Axes>"
      ]
     },
     "metadata": {},
     "output_type": "display_data"
    }
   ],
   "source": [
    "I = obs[::2,::2,:]\n",
    "I = obs\n",
    "print(preprocessing(obs).shape)\n",
    "print(obs.shape)\n",
    "\n",
    "size = 8\n",
    "plt.figure(figsize=(size,size*21/16))\n",
    "#plt.imshow(obs,\"gray\")\n",
    "#plt.imshow(obs,\"gray\")\n",
    "plt.imshow(preprocessing(obs),\"gray\")\n",
    "plt.grid(True)\n",
    "plt.show()"
   ]
  },
  {
   "cell_type": "code",
   "execution_count": 50,
   "metadata": {
    "colab": {
     "base_uri": "https://localhost:8080/",
     "height": 400
    },
    "colab_type": "code",
    "id": "QjfFgeLnU0UB",
    "outputId": "fce3cac6-7a9f-4542-9347-fd3a63611d65"
   },
   "outputs": [
    {
     "name": "stdout",
     "output_type": "stream",
     "text": [
      "(2, 4, 84, 74)\n",
      "<class 'numpy.ndarray'>\n"
     ]
    },
    {
     "data": {
      "text/plain": [
       "<matplotlib.image.AxesImage at 0x7f5218589940>"
      ]
     },
     "execution_count": 50,
     "metadata": {},
     "output_type": "execute_result"
    },
    {
     "data": {
      "image/png": "[encoded data removed]",
      "text/plain": [
       "<Figure size 432x288 with 1 Axes>"
      ]
     },
     "metadata": {},
     "output_type": "display_data"
    }
   ],
   "source": [
    "frame = preprocessing(frame)\n",
    "II = []\n",
    "I_list = []\n",
    "I_list.append(frame)\n",
    "I_list.append(frame)\n",
    "I_list.append(frame)\n",
    "I_list.append(frame)\n",
    "II.append(I_list)\n",
    "II.append(I_list)\n",
    "\n",
    "II = np.array(II)\n",
    "\n",
    "print(II.shape)\n",
    "print(type(II))\n",
    "plt.imshow(II[0][0])"
   ]
  },
  {
   "cell_type": "code",
   "execution_count": 36,
   "metadata": {},
   "outputs": [
    {
     "name": "stdout",
     "output_type": "stream",
     "text": [
      "{'ale.lives': 2}\n",
      "2\n"
     ]
    }
   ],
   "source": [
    "obs, reward, done, info = env.step(0)\n",
    "print(info)\n",
    "print(info['ale.lives'])\n"
   ]
  },
  {
   "cell_type": "code",
   "execution_count": 3,
   "metadata": {},
   "outputs": [],
   "source": [
    "def plot_environment(env, figsize=(5,4)):\n",
    "    plt.close()  # or else nbagg sometimes plots in the previous cell\n",
    "    f = plt.figure(figsize=figsize)\n",
    "    img = env.render(mode=\"rgb_array\")\n",
    "    plt.imshow(img)\n",
    "    plt.axis(\"off\")\n",
    "    plt.show()\n",
    "    plt.close(f)\n",
    "    plt.gcf()"
   ]
  },
  {
   "cell_type": "code",
   "execution_count": 4,
   "metadata": {
    "colab": {
     "base_uri": "https://localhost:8080/",
     "height": 10614
    },
    "colab_type": "code",
    "id": "sf7RPKizMM47",
    "outputId": "05835671-a0ba-4cf2-c252-1115577abbfb"
   },
   "outputs": [
    {
     "data": {
      "image/png": "[encoded data removed]",
      "text/plain": [
       "<Figure size 432x288 with 1 Axes>"
      ]
     },
     "metadata": {},
     "output_type": "display_data"
    },
    {
     "name": "stdout",
     "output_type": "stream",
     "text": [
      "NEW GAME\n"
     ]
    },
    {
     "data": {
      "image/png": "[encoded data removed]",
      "text/plain": [
       "<Figure size 360x288 with 1 Axes>"
      ]
     },
     "metadata": {},
     "output_type": "display_data"
    },
    {
     "name": "stdout",
     "output_type": "stream",
     "text": [
      "0.0 False {'ale.lives': 5}\n"
     ]
    },
    {
     "data": {
      "image/png": "[encoded data removed]",
      "text/plain": [
       "<Figure size 360x288 with 1 Axes>"
      ]
     },
     "metadata": {},
     "output_type": "display_data"
    },
    {
     "name": "stdout",
     "output_type": "stream",
     "text": [
      "0.0 False {'ale.lives': 5}\n"
     ]
    },
    {
     "data": {
      "image/png": "[encoded data removed]",
      "text/plain": [
       "<Figure size 360x288 with 1 Axes>"
      ]
     },
     "metadata": {},
     "output_type": "display_data"
    },
    {
     "name": "stdout",
     "output_type": "stream",
     "text": [
      "0.0 False {'ale.lives': 5}\n"
     ]
    },
    {
     "data": {
      "image/png": "[encoded data removed]",
      "text/plain": [
       "<Figure size 360x288 with 1 Axes>"
      ]
     },
     "metadata": {},
     "output_type": "display_data"
    },
    {
     "name": "stdout",
     "output_type": "stream",
     "text": [
      "0.0 False {'ale.lives': 5}\n"
     ]
    },
    {
     "data": {
      "image/png": "[encoded data removed]",
      "text/plain": [
       "<Figure size 360x288 with 1 Axes>"
      ]
     },
     "metadata": {},
     "output_type": "display_data"
    },
    {
     "name": "stdout",
     "output_type": "stream",
     "text": [
      "0.0 False {'ale.lives': 5}\n"
     ]
    },
    {
     "data": {
      "image/png": "[encoded data removed]",
      "text/plain": [
       "<Figure size 360x288 with 1 Axes>"
      ]
     },
     "metadata": {},
     "output_type": "display_data"
    },
    {
     "name": "stdout",
     "output_type": "stream",
     "text": [
      "0.0 False {'ale.lives': 5}\n"
     ]
    },
    {
     "data": {
      "image/png": "[encoded data removed]",
      "text/plain": [
       "<Figure size 360x288 with 1 Axes>"
      ]
     },
     "metadata": {},
     "output_type": "display_data"
    },
    {
     "name": "stdout",
     "output_type": "stream",
     "text": [
      "0.0 False {'ale.lives': 5}\n"
     ]
    },
    {
     "data": {
      "image/png": "[encoded data removed]",
      "text/plain": [
       "<Figure size 360x288 with 1 Axes>"
      ]
     },
     "metadata": {},
     "output_type": "display_data"
    },
    {
     "name": "stdout",
     "output_type": "stream",
     "text": [
      "0.0 False {'ale.lives': 5}\n"
     ]
    },
    {
     "data": {
      "image/png": "[encoded data removed]",
      "text/plain": [
       "<Figure size 360x288 with 1 Axes>"
      ]
     },
     "metadata": {},
     "output_type": "display_data"
    },
    {
     "name": "stdout",
     "output_type": "stream",
     "text": [
      "0.0 False {'ale.lives': 5}\n"
     ]
    },
    {
     "data": {
      "image/png": "[encoded data removed]",
      "text/plain": [
       "<Figure size 360x288 with 1 Axes>"
      ]
     },
     "metadata": {},
     "output_type": "display_data"
    },
    {
     "name": "stdout",
     "output_type": "stream",
     "text": [
      "0.0 False {'ale.lives': 5}\n"
     ]
    },
    {
     "data": {
      "image/png": "[encoded data removed]",
      "text/plain": [
       "<Figure size 360x288 with 1 Axes>"
      ]
     },
     "metadata": {},
     "output_type": "display_data"
    },
    {
     "name": "stdout",
     "output_type": "stream",
     "text": [
      "0.0 False {'ale.lives': 5}\n"
     ]
    },
    {
     "data": {
      "image/png": "[encoded data removed]",
      "text/plain": [
       "<Figure size 360x288 with 1 Axes>"
      ]
     },
     "metadata": {},
     "output_type": "display_data"
    },
    {
     "name": "stdout",
     "output_type": "stream",
     "text": [
      "0.0 False {'ale.lives': 5}\n"
     ]
    },
    {
     "data": {
      "image/png": "[encoded data removed]",
      "text/plain": [
       "<Figure size 360x288 with 1 Axes>"
      ]
     },
     "metadata": {},
     "output_type": "display_data"
    },
    {
     "name": "stdout",
     "output_type": "stream",
     "text": [
      "0.0 False {'ale.lives': 5}\n"
     ]
    },
    {
     "data": {
      "image/png": "[encoded data removed]",
      "text/plain": [
       "<Figure size 360x288 with 1 Axes>"
      ]
     },
     "metadata": {},
     "output_type": "display_data"
    },
    {
     "name": "stdout",
     "output_type": "stream",
     "text": [
      "0.0 False {'ale.lives': 5}\n"
     ]
    },
    {
     "data": {
      "image/png": "[encoded data removed]",
      "text/plain": [
       "<Figure size 360x288 with 1 Axes>"
      ]
     },
     "metadata": {},
     "output_type": "display_data"
    },
    {
     "name": "stdout",
     "output_type": "stream",
     "text": [
      "0.0 False {'ale.lives': 5}\n"
     ]
    },
    {
     "data": {
      "image/png": "[encoded data removed]",
      "text/plain": [
       "<Figure size 360x288 with 1 Axes>"
      ]
     },
     "metadata": {},
     "output_type": "display_data"
    },
    {
     "name": "stdout",
     "output_type": "stream",
     "text": [
      "0.0 False {'ale.lives': 5}\n"
     ]
    },
    {
     "data": {
      "image/png": "[encoded data removed]",
      "text/plain": [
       "<Figure size 360x288 with 1 Axes>"
      ]
     },
     "metadata": {},
     "output_type": "display_data"
    },
    {
     "name": "stdout",
     "output_type": "stream",
     "text": [
      "0.0 False {'ale.lives': 5}\n"
     ]
    },
    {
     "data": {
      "image/png": "[encoded data removed]",
      "text/plain": [
       "<Figure size 360x288 with 1 Axes>"
      ]
     },
     "metadata": {},
     "output_type": "display_data"
    },
    {
     "name": "stdout",
     "output_type": "stream",
     "text": [
      "0.0 False {'ale.lives': 5}\n"
     ]
    },
    {
     "data": {
      "image/png": "[encoded data removed]",
      "text/plain": [
       "<Figure size 360x288 with 1 Axes>"
      ]
     },
     "metadata": {},
     "output_type": "display_data"
    },
    {
     "name": "stdout",
     "output_type": "stream",
     "text": [
      "0.0 False {'ale.lives': 5}\n"
     ]
    },
    {
     "data": {
      "image/png": "[encoded data removed]",
      "text/plain": [
       "<Figure size 360x288 with 1 Axes>"
      ]
     },
     "metadata": {},
     "output_type": "display_data"
    },
    {
     "name": "stdout",
     "output_type": "stream",
     "text": [
      "0.0 False {'ale.lives': 5}\n"
     ]
    },
    {
     "data": {
      "image/png": "[encoded data removed]",
      "text/plain": [
       "<Figure size 360x288 with 1 Axes>"
      ]
     },
     "metadata": {},
     "output_type": "display_data"
    },
    {
     "name": "stdout",
     "output_type": "stream",
     "text": [
      "0.0 False {'ale.lives': 5}\n"
     ]
    },
    {
     "data": {
      "image/png": "[encoded data removed]",
      "text/plain": [
       "<Figure size 360x288 with 1 Axes>"
      ]
     },
     "metadata": {},
     "output_type": "display_data"
    },
    {
     "name": "stdout",
     "output_type": "stream",
     "text": [
      "0.0 False {'ale.lives': 5}\n"
     ]
    },
    {
     "data": {
      "image/png": "[encoded data removed]",
      "text/plain": [
       "<Figure size 360x288 with 1 Axes>"
      ]
     },
     "metadata": {},
     "output_type": "display_data"
    },
    {
     "name": "stdout",
     "output_type": "stream",
     "text": [
      "0.0 False {'ale.lives': 5}\n"
     ]
    },
    {
     "data": {
      "image/png": "[encoded data removed]",
      "text/plain": [
       "<Figure size 360x288 with 1 Axes>"
      ]
     },
     "metadata": {},
     "output_type": "display_data"
    },
    {
     "name": "stdout",
     "output_type": "stream",
     "text": [
      "0.0 False {'ale.lives': 5}\n"
     ]
    },
    {
     "data": {
      "image/png": "[encoded data removed]",
      "text/plain": [
       "<Figure size 360x288 with 1 Axes>"
      ]
     },
     "metadata": {},
     "output_type": "display_data"
    },
    {
     "name": "stdout",
     "output_type": "stream",
     "text": [
      "0.0 False {'ale.lives': 5}\n"
     ]
    },
    {
     "data": {
      "image/png": "[encoded data removed]",
      "text/plain": [
       "<Figure size 360x288 with 1 Axes>"
      ]
     },
     "metadata": {},
     "output_type": "display_data"
    },
    {
     "name": "stdout",
     "output_type": "stream",
     "text": [
      "0.0 False {'ale.lives': 5}\n"
     ]
    },
    {
     "data": {
      "image/png": "[encoded data removed]",
      "text/plain": [
       "<Figure size 360x288 with 1 Axes>"
      ]
     },
     "metadata": {},
     "output_type": "display_data"
    },
    {
     "name": "stdout",
     "output_type": "stream",
     "text": [
      "0.0 False {'ale.lives': 5}\n"
     ]
    },
    {
     "data": {
      "image/png": "[encoded data removed]",
      "text/plain": [
       "<Figure size 360x288 with 1 Axes>"
      ]
     },
     "metadata": {},
     "output_type": "display_data"
    },
    {
     "name": "stdout",
     "output_type": "stream",
     "text": [
      "0.0 False {'ale.lives': 5}\n"
     ]
    },
    {
     "data": {
      "image/png": "[encoded data removed]",
      "text/plain": [
       "<Figure size 360x288 with 1 Axes>"
      ]
     },
     "metadata": {},
     "output_type": "display_data"
    },
    {
     "name": "stdout",
     "output_type": "stream",
     "text": [
      "0.0 False {'ale.lives': 5}\n"
     ]
    },
    {
     "data": {
      "image/png": "[encoded data removed]",
      "text/plain": [
       "<Figure size 360x288 with 1 Axes>"
      ]
     },
     "metadata": {},
     "output_type": "display_data"
    },
    {
     "name": "stdout",
     "output_type": "stream",
     "text": [
      "0.0 False {'ale.lives': 5}\n"
     ]
    },
    {
     "data": {
      "image/png": "[encoded data removed]",
      "text/plain": [
       "<Figure size 360x288 with 1 Axes>"
      ]
     },
     "metadata": {},
     "output_type": "display_data"
    },
    {
     "name": "stdout",
     "output_type": "stream",
     "text": [
      "0.0 False {'ale.lives': 5}\n"
     ]
    },
    {
     "data": {
      "image/png": "[encoded data removed]",
      "text/plain": [
       "<Figure size 360x288 with 1 Axes>"
      ]
     },
     "metadata": {},
     "output_type": "display_data"
    },
    {
     "name": "stdout",
     "output_type": "stream",
     "text": [
      "0.0 False {'ale.lives': 5}\n"
     ]
    },
    {
     "data": {
      "image/png": "[encoded data removed]",
      "text/plain": [
       "<Figure size 360x288 with 1 Axes>"
      ]
     },
     "metadata": {},
     "output_type": "display_data"
    },
    {
     "name": "stdout",
     "output_type": "stream",
     "text": [
      "0.0 False {'ale.lives': 5}\n"
     ]
    },
    {
     "data": {
      "image/png": "[encoded data removed]",
      "text/plain": [
       "<Figure size 360x288 with 1 Axes>"
      ]
     },
     "metadata": {},
     "output_type": "display_data"
    },
    {
     "name": "stdout",
     "output_type": "stream",
     "text": [
      "0.0 True {'ale.lives': 4}\n",
      "BREAK***********************************\n"
     ]
    },
    {
     "data": {
      "image/png": "[encoded data removed]",
      "text/plain": [
       "<Figure size 432x288 with 1 Axes>"
      ]
     },
     "metadata": {},
     "output_type": "display_data"
    },
    {
     "name": "stdout",
     "output_type": "stream",
     "text": [
      "NEW GAME\n"
     ]
    },
    {
     "data": {
      "image/png": "[encoded data removed]",
      "text/plain": [
       "<Figure size 360x288 with 1 Axes>"
      ]
     },
     "metadata": {},
     "output_type": "display_data"
    },
    {
     "name": "stdout",
     "output_type": "stream",
     "text": [
      "0.0 False {'ale.lives': 5}\n"
     ]
    },
    {
     "data": {
      "image/png": "[encoded data removed]",
      "text/plain": [
       "<Figure size 360x288 with 1 Axes>"
      ]
     },
     "metadata": {},
     "output_type": "display_data"
    },
    {
     "name": "stdout",
     "output_type": "stream",
     "text": [
      "0.0 False {'ale.lives': 5}\n"
     ]
    },
    {
     "data": {
      "image/png": "[encoded data removed]",
      "text/plain": [
       "<Figure size 360x288 with 1 Axes>"
      ]
     },
     "metadata": {},
     "output_type": "display_data"
    },
    {
     "name": "stdout",
     "output_type": "stream",
     "text": [
      "0.0 False {'ale.lives': 5}\n"
     ]
    },
    {
     "data": {
      "image/png": "[encoded data removed]",
      "text/plain": [
       "<Figure size 360x288 with 1 Axes>"
      ]
     },
     "metadata": {},
     "output_type": "display_data"
    },
    {
     "name": "stdout",
     "output_type": "stream",
     "text": [
      "0.0 False {'ale.lives': 5}\n"
     ]
    },
    {
     "data": {
      "image/png": "[encoded data removed]",
      "text/plain": [
       "<Figure size 360x288 with 1 Axes>"
      ]
     },
     "metadata": {},
     "output_type": "display_data"
    },
    {
     "name": "stdout",
     "output_type": "stream",
     "text": [
      "0.0 False {'ale.lives': 5}\n"
     ]
    },
    {
     "data": {
      "image/png": "[encoded data removed]",
      "text/plain": [
       "<Figure size 360x288 with 1 Axes>"
      ]
     },
     "metadata": {},
     "output_type": "display_data"
    },
    {
     "name": "stdout",
     "output_type": "stream",
     "text": [
      "0.0 False {'ale.lives': 5}\n"
     ]
    },
    {
     "data": {
      "image/png": "[encoded data removed]",
      "text/plain": [
       "<Figure size 360x288 with 1 Axes>"
      ]
     },
     "metadata": {},
     "output_type": "display_data"
    },
    {
     "name": "stdout",
     "output_type": "stream",
     "text": [
      "0.0 False {'ale.lives': 5}\n"
     ]
    },
    {
     "data": {
      "image/png": "[encoded data removed]",
      "text/plain": [
       "<Figure size 360x288 with 1 Axes>"
      ]
     },
     "metadata": {},
     "output_type": "display_data"
    },
    {
     "name": "stdout",
     "output_type": "stream",
     "text": [
      "0.0 False {'ale.lives': 5}\n"
     ]
    },
    {
     "data": {
      "image/png": "[encoded data removed]",
      "text/plain": [
       "<Figure size 360x288 with 1 Axes>"
      ]
     },
     "metadata": {},
     "output_type": "display_data"
    },
    {
     "name": "stdout",
     "output_type": "stream",
     "text": [
      "0.0 False {'ale.lives': 5}\n"
     ]
    },
    {
     "data": {
      "image/png": "[encoded data removed]",
      "text/plain": [
       "<Figure size 360x288 with 1 Axes>"
      ]
     },
     "metadata": {},
     "output_type": "display_data"
    },
    {
     "name": "stdout",
     "output_type": "stream",
     "text": [
      "0.0 False {'ale.lives': 5}\n"
     ]
    },
    {
     "data": {
      "image/png": "[encoded data removed]",
      "text/plain": [
       "<Figure size 360x288 with 1 Axes>"
      ]
     },
     "metadata": {},
     "output_type": "display_data"
    },
    {
     "name": "stdout",
     "output_type": "stream",
     "text": [
      "0.0 False {'ale.lives': 5}\n"
     ]
    },
    {
     "data": {
      "image/png": "[encoded data removed]",
      "text/plain": [
       "<Figure size 360x288 with 1 Axes>"
      ]
     },
     "metadata": {},
     "output_type": "display_data"
    },
    {
     "name": "stdout",
     "output_type": "stream",
     "text": [
      "0.0 False {'ale.lives': 5}\n"
     ]
    },
    {
     "data": {
      "image/png": "[encoded data removed]",
      "text/plain": [
       "<Figure size 360x288 with 1 Axes>"
      ]
     },
     "metadata": {},
     "output_type": "display_data"
    },
    {
     "name": "stdout",
     "output_type": "stream",
     "text": [
      "0.0 False {'ale.lives': 5}\n"
     ]
    },
    {
     "data": {
      "image/png": "[encoded data removed]",
      "text/plain": [
       "<Figure size 360x288 with 1 Axes>"
      ]
     },
     "metadata": {},
     "output_type": "display_data"
    },
    {
     "name": "stdout",
     "output_type": "stream",
     "text": [
      "0.0 False {'ale.lives': 5}\n"
     ]
    },
    {
     "data": {
      "image/png": "[encoded data removed]",
      "text/plain": [
       "<Figure size 360x288 with 1 Axes>"
      ]
     },
     "metadata": {},
     "output_type": "display_data"
    },
    {
     "name": "stdout",
     "output_type": "stream",
     "text": [
      "0.0 False {'ale.lives': 5}\n"
     ]
    },
    {
     "data": {
      "image/png": "[encoded data removed]",
      "text/plain": [
       "<Figure size 360x288 with 1 Axes>"
      ]
     },
     "metadata": {},
     "output_type": "display_data"
    },
    {
     "name": "stdout",
     "output_type": "stream",
     "text": [
      "0.0 False {'ale.lives': 5}\n"
     ]
    },
    {
     "data": {
      "image/png": "[encoded data removed]",
      "text/plain": [
       "<Figure size 360x288 with 1 Axes>"
      ]
     },
     "metadata": {},
     "output_type": "display_data"
    },
    {
     "name": "stdout",
     "output_type": "stream",
     "text": [
      "0.0 False {'ale.lives': 5}\n"
     ]
    },
    {
     "data": {
      "image/png": "[encoded data removed]",
      "text/plain": [
       "<Figure size 360x288 with 1 Axes>"
      ]
     },
     "metadata": {},
     "output_type": "display_data"
    },
    {
     "name": "stdout",
     "output_type": "stream",
     "text": [
      "0.0 False {'ale.lives': 5}\n"
     ]
    },
    {
     "data": {
      "image/png": "[encoded data removed]",
      "text/plain": [
       "<Figure size 360x288 with 1 Axes>"
      ]
     },
     "metadata": {},
     "output_type": "display_data"
    },
    {
     "name": "stdout",
     "output_type": "stream",
     "text": [
      "0.0 False {'ale.lives': 5}\n"
     ]
    },
    {
     "data": {
      "image/png": "[encoded data removed]",
      "text/plain": [
       "<Figure size 360x288 with 1 Axes>"
      ]
     },
     "metadata": {},
     "output_type": "display_data"
    },
    {
     "name": "stdout",
     "output_type": "stream",
     "text": [
      "0.0 False {'ale.lives': 5}\n"
     ]
    },
    {
     "data": {
      "image/png": "[encoded data removed]",
      "text/plain": [
       "<Figure size 360x288 with 1 Axes>"
      ]
     },
     "metadata": {},
     "output_type": "display_data"
    },
    {
     "name": "stdout",
     "output_type": "stream",
     "text": [
      "0.0 False {'ale.lives': 5}\n"
     ]
    },
    {
     "data": {
      "image/png": "[encoded data removed]",
      "text/plain": [
       "<Figure size 360x288 with 1 Axes>"
      ]
     },
     "metadata": {},
     "output_type": "display_data"
    },
    {
     "name": "stdout",
     "output_type": "stream",
     "text": [
      "0.0 False {'ale.lives': 5}\n"
     ]
    },
    {
     "data": {
      "image/png": "[encoded data removed]",
      "text/plain": [
       "<Figure size 360x288 with 1 Axes>"
      ]
     },
     "metadata": {},
     "output_type": "display_data"
    },
    {
     "name": "stdout",
     "output_type": "stream",
     "text": [
      "0.0 False {'ale.lives': 5}\n"
     ]
    },
    {
     "data": {
      "image/png": "[encoded data removed]",
      "text/plain": [
       "<Figure size 360x288 with 1 Axes>"
      ]
     },
     "metadata": {},
     "output_type": "display_data"
    },
    {
     "name": "stdout",
     "output_type": "stream",
     "text": [
      "0.0 False {'ale.lives': 5}\n"
     ]
    },
    {
     "data": {
      "image/png": "[encoded data removed]",
      "text/plain": [
       "<Figure size 360x288 with 1 Axes>"
      ]
     },
     "metadata": {},
     "output_type": "display_data"
    },
    {
     "name": "stdout",
     "output_type": "stream",
     "text": [
      "0.0 False {'ale.lives': 5}\n"
     ]
    },
    {
     "data": {
      "image/png": "[encoded data removed]",
      "text/plain": [
       "<Figure size 360x288 with 1 Axes>"
      ]
     },
     "metadata": {},
     "output_type": "display_data"
    },
    {
     "name": "stdout",
     "output_type": "stream",
     "text": [
      "0.0 False {'ale.lives': 5}\n"
     ]
    },
    {
     "data": {
      "image/png": "[encoded data removed]",
      "text/plain": [
       "<Figure size 360x288 with 1 Axes>"
      ]
     },
     "metadata": {},
     "output_type": "display_data"
    },
    {
     "name": "stdout",
     "output_type": "stream",
     "text": [
      "0.0 False {'ale.lives': 5}\n"
     ]
    },
    {
     "data": {
      "image/png": "[encoded data removed]",
      "text/plain": [
       "<Figure size 360x288 with 1 Axes>"
      ]
     },
     "metadata": {},
     "output_type": "display_data"
    },
    {
     "name": "stdout",
     "output_type": "stream",
     "text": [
      "0.0 False {'ale.lives': 5}\n"
     ]
    },
    {
     "data": {
      "image/png": "[encoded data removed]",
      "text/plain": [
       "<Figure size 360x288 with 1 Axes>"
      ]
     },
     "metadata": {},
     "output_type": "display_data"
    },
    {
     "name": "stdout",
     "output_type": "stream",
     "text": [
      "0.0 False {'ale.lives': 5}\n"
     ]
    },
    {
     "data": {
      "image/png": "[encoded data removed]",
      "text/plain": [
       "<Figure size 360x288 with 1 Axes>"
      ]
     },
     "metadata": {},
     "output_type": "display_data"
    },
    {
     "name": "stdout",
     "output_type": "stream",
     "text": [
      "0.0 False {'ale.lives': 5}\n"
     ]
    },
    {
     "data": {
      "image/png": "[encoded data removed]",
      "text/plain": [
       "<Figure size 360x288 with 1 Axes>"
      ]
     },
     "metadata": {},
     "output_type": "display_data"
    },
    {
     "name": "stdout",
     "output_type": "stream",
     "text": [
      "0.0 False {'ale.lives': 5}\n"
     ]
    },
    {
     "data": {
      "image/png": "[encoded data removed]",
      "text/plain": [
       "<Figure size 360x288 with 1 Axes>"
      ]
     },
     "metadata": {},
     "output_type": "display_data"
    },
    {
     "name": "stdout",
     "output_type": "stream",
     "text": [
      "0.0 False {'ale.lives': 5}\n"
     ]
    },
    {
     "data": {
      "image/png": "[encoded data removed]",
      "text/plain": [
       "<Figure size 360x288 with 1 Axes>"
      ]
     },
     "metadata": {},
     "output_type": "display_data"
    },
    {
     "name": "stdout",
     "output_type": "stream",
     "text": [
      "0.0 False {'ale.lives': 5}\n"
     ]
    },
    {
     "data": {
      "image/png": "[encoded data removed]",
      "text/plain": [
       "<Figure size 360x288 with 1 Axes>"
      ]
     },
     "metadata": {},
     "output_type": "display_data"
    },
    {
     "name": "stdout",
     "output_type": "stream",
     "text": [
      "0.0 False {'ale.lives': 5}\n"
     ]
    },
    {
     "data": {
      "image/png": "[encoded data removed]",
      "text/plain": [
       "<Figure size 360x288 with 1 Axes>"
      ]
     },
     "metadata": {},
     "output_type": "display_data"
    },
    {
     "name": "stdout",
     "output_type": "stream",
     "text": [
      "0.0 False {'ale.lives': 5}\n"
     ]
    },
    {
     "data": {
      "image/png": "[encoded data removed]",
      "text/plain": [
       "<Figure size 360x288 with 1 Axes>"
      ]
     },
     "metadata": {},
     "output_type": "display_data"
    },
    {
     "name": "stdout",
     "output_type": "stream",
     "text": [
      "0.0 False {'ale.lives': 5}\n"
     ]
    },
    {
     "data": {
      "image/png": "[encoded data removed]",
      "text/plain": [
       "<Figure size 360x288 with 1 Axes>"
      ]
     },
     "metadata": {},
     "output_type": "display_data"
    },
    {
     "name": "stdout",
     "output_type": "stream",
     "text": [
      "0.0 True {'ale.lives': 4}\n",
      "BREAK***********************************\n"
     ]
    },
    {
     "data": {
      "text/plain": [
       "<Figure size 432x288 with 0 Axes>"
      ]
     },
     "metadata": {},
     "output_type": "display_data"
    }
   ],
   "source": [
    "import time as t\n",
    "env = gym.make('Breakout-v0')\n",
    "\n",
    "for _ in range(2):\n",
    "    obs = env.reset()\n",
    "    obs = np.array(obs)\n",
    "    plt.imshow(obs)\n",
    "    plt.show()\n",
    "    I_list = []\n",
    "    print(\"NEW GAME\")\n",
    "    for time in range(100):\n",
    "        plot_environment(env)\n",
    "        #t.sleep(0.5)\n",
    "        frame, reward, done, info = env.step(env.action_space.sample()) # take a random action\n",
    "        if info['ale.lives'] < 5 :\n",
    "            done = True\n",
    "        print(reward, done, info)\n",
    "        I_list.append(frame)\n",
    "        if done :\n",
    "            print(\"BREAK***********************************\")\n",
    "            break\n",
    "        \"\"\"\n",
    "        print(\"time: %s\"%time)\n",
    "        plt.figure(figsize=(4,4*21/16))\n",
    "        plt.imshow(preprocessing(frame),\"gray\")\n",
    "        plt.grid(False)\n",
    "        plt.show()\n",
    "        \"\"\"\n",
    "env.close()"
   ]
  },
  {
   "cell_type": "code",
   "execution_count": null,
   "metadata": {},
   "outputs": [],
   "source": [
    "model = Sequential()\n",
    "model.add(Conv2D(32, (3,3), strides=(2, 2), input_dim=self.state_size, activation='relu'))\n",
    "# add BatchNormalisation ?\n",
    "model.add(Conv2D(32, (3,3), activation='relu'))\n",
    "model.add(MaxPooling2D(pool_size=(2, 2)))\n",
    "model.add(Flatten())\n",
    "model.add(Dense(256, activation='relu'))\n",
    "model.add(Dense(self.action_size, activation='linear'))\n",
    "model.compile(loss='mse',optimizer=Adam(lr=0.001))"
   ]
  },
  {
   "cell_type": "code",
   "execution_count": null,
   "metadata": {},
   "outputs": [],
   "source": []
  },
  {
   "cell_type": "markdown",
   "metadata": {},
   "source": [
    "## Test on neuronal network"
   ]
  },
  {
   "cell_type": "code",
   "execution_count": 6,
   "metadata": {},
   "outputs": [],
   "source": [
    "from keras.models import Sequential\n",
    "from keras.layers import Dense, Dropout, Flatten\n",
    "from keras.layers import Conv2D, MaxPooling2D"
   ]
  },
  {
   "cell_type": "code",
   "execution_count": 53,
   "metadata": {},
   "outputs": [
    {
     "name": "stdout",
     "output_type": "stream",
     "text": [
      "(None, 84, 74, 4)\n",
      "(None, 41, 36, 32)\n",
      "(None, 39, 34, 32)\n",
      "(None, 19, 17, 32)\n",
      "(None, 10336)\n",
      "(None, 256)\n",
      "(None, 4)\n"
     ]
    }
   ],
   "source": [
    "model = Sequential()\n",
    "\n",
    "model.add(Conv2D(32, (4,4), strides=(2, 2), input_shape=(84,74,4), activation='relu'))\n",
    "print(model.input_shape)\n",
    "print(model.output_shape)\n",
    "# add BatchNormalisation ?\n",
    "model.add(Conv2D(32, (3,3), activation='relu'))\n",
    "print(model.output_shape)\n",
    "\n",
    "model.add(MaxPooling2D(pool_size=(2, 2)))\n",
    "print(model.output_shape)\n",
    "\n",
    "model.add(Flatten())\n",
    "print(model.output_shape)\n",
    "\n",
    "model.add(Dense(256, activation='relu'))\n",
    "print(model.output_shape)\n",
    "\n",
    "model.add(Dense(4, activation='linear'))\n",
    "print(model.output_shape)\n",
    "             \n",
    "\n",
    "model.compile(loss='mse',optimizer=Adam(lr=0.001))"
   ]
  },
  {
   "cell_type": "code",
   "execution_count": 29,
   "metadata": {},
   "outputs": [
    {
     "name": "stdout",
     "output_type": "stream",
     "text": [
      "(4, 84, 74)\n"
     ]
    }
   ],
   "source": [
    "I = preprocessing(a)\n",
    "print(np.array(stack).shape)"
   ]
  },
  {
   "cell_type": "code",
   "execution_count": 44,
   "metadata": {},
   "outputs": [
    {
     "name": "stdout",
     "output_type": "stream",
     "text": [
      "(1, 74, 84, 4)\n"
     ]
    }
   ],
   "source": [
    "print(deque_to_batch(stack).shape)"
   ]
  },
  {
   "cell_type": "code",
   "execution_count": 62,
   "metadata": {},
   "outputs": [],
   "source": [
    "batch_state = deque_to_batch(stack)\n",
    "act_values = model.predict(batch_state)"
   ]
  },
  {
   "cell_type": "code",
   "execution_count": 63,
   "metadata": {},
   "outputs": [
    {
     "name": "stdout",
     "output_type": "stream",
     "text": [
      "[[ 0.09703801  1.0774039  -0.03329939  0.11752306]]\n",
      "1\n"
     ]
    }
   ],
   "source": [
    "print(act_values)\n",
    "print(np.argmax(act_values[0]))"
   ]
  },
  {
   "cell_type": "code",
   "execution_count": 58,
   "metadata": {},
   "outputs": [
    {
     "name": "stdout",
     "output_type": "stream",
     "text": [
      "[[-0.01228185  0.03620715 -0.05246257 -0.00330176]]\n",
      "1\n"
     ]
    }
   ],
   "source": [
    "print(act_values)\n",
    "print(np.argmax(act_values[0]))"
   ]
  },
  {
   "cell_type": "code",
   "execution_count": 61,
   "metadata": {},
   "outputs": [
    {
     "data": {
      "text/plain": [
       "<keras.callbacks.History at 0x7f1da01166d8>"
      ]
     },
     "execution_count": 61,
     "metadata": {},
     "output_type": "execute_result"
    }
   ],
   "source": [
    "target_f = np.array([[-0.01228185, 5, -0.05246257, -0.00330176]])\n",
    "model.fit(batch_state, target_f, epochs=1, verbose=0)\n"
   ]
  },
  {
   "cell_type": "markdown",
   "metadata": {},
   "source": [
    "## Test epsillon "
   ]
  },
  {
   "cell_type": "code",
   "execution_count": 29,
   "metadata": {},
   "outputs": [
    {
     "data": {
      "image/png": "[encoded data removed]",
      "text/plain": [
       "<Figure size 936x576 with 1 Axes>"
      ]
     },
     "metadata": {},
     "output_type": "display_data"
    }
   ],
   "source": [
    "e = np.arange(250000)\n",
    "epsilon_decay = 0.99995\n",
    "plt.figure(figsize=(13,8))\n",
    "plt.plot(e,epsilon_decay**e,label=r\"$\\epsilon$ = %s\"%epsilon_decay)\n",
    "plt.xlabel(\"nb episodes\",fontsize=20)\n",
    "plt.ylabel(\"epsillon\",fontsize=20)\n",
    "plt.title(\"Epsillon evolution with the number of game played\",fontsize=20)\n",
    "plt.legend(fontsize=20)\n",
    "plt.show()"
   ]
  },
  {
   "cell_type": "code",
   "execution_count": null,
   "metadata": {},
   "outputs": [],
   "source": []
  }
 ],
 "metadata": {
  "colab": {
   "collapsed_sections": [],
   "name": "Breakout.ipynb",
   "provenance": [],
   "version": "0.3.2"
  },
  "kernelspec": {
   "display_name": "Python (GPU)",
   "language": "python",
   "name": "gpu"
  },
  "language_info": {
   "codemirror_mode": {
    "name": "ipython",
    "version": 3
   },
   "file_extension": ".py",
   "mimetype": "text/x-python",
   "name": "python",
   "nbconvert_exporter": "python",
   "pygments_lexer": "ipython3",
   "version": "3.6.5"
  }
 },
 "nbformat": 4,
 "nbformat_minor": 1
}
