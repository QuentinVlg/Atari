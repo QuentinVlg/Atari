{
 "cells": [
  {
   "cell_type": "markdown",
   "metadata": {
    "colab_type": "text",
    "id": "vEbPyfB0ukoh"
   },
   "source": [
    "# Breakout 🎮🕹️\n",
    "\n",
    "\n",
    "## Packages"
   ]
  },
  {
   "cell_type": "code",
   "execution_count": 1,
   "metadata": {
    "colab": {
     "base_uri": "https://localhost:8080/",
     "height": 544
    },
    "colab_type": "code",
    "id": "X1_rxWxBen-M",
    "outputId": "5bbae283-5b95-46f1-aff8-c2d245029b2f"
   },
   "outputs": [],
   "source": [
    "#!pip install gym[atari]"
   ]
  },
  {
   "cell_type": "code",
   "execution_count": 2,
   "metadata": {
    "colab": {
     "base_uri": "https://localhost:8080/",
     "height": 34
    },
    "colab_type": "code",
    "id": "kHSYEB5wuoVE",
    "outputId": "1ab9fe8f-c5cd-4363-a25a-51d3115bfab1"
   },
   "outputs": [
    {
     "name": "stderr",
     "output_type": "stream",
     "text": [
      "/usr/local/insa/anaconda/envs/GPU/lib/python3.6/site-packages/h5py/__init__.py:36: FutureWarning: Conversion of the second argument of issubdtype from `float` to `np.floating` is deprecated. In future, it will be treated as `np.float64 == np.dtype(float).type`.\n",
      "  from ._conv import register_converters as _register_converters\n",
      "Using TensorFlow backend.\n"
     ]
    }
   ],
   "source": [
    "import random\n",
    "import gym\n",
    "import numpy as np\n",
    "import matplotlib.pyplot as plt \n",
    "from collections import deque\n",
    "from keras.models import Sequential\n",
    "from keras.layers import Dense\n",
    "from keras.optimizers import Adam"
   ]
  },
  {
   "cell_type": "code",
   "execution_count": 6,
   "metadata": {},
   "outputs": [],
   "source": [
    "import os\n",
    "cwd = os.getcwd()\n",
    "#os.chdir(r'C:\\Users\\Quentin\\Documents\\5 GMM Projet\\save')  # to change the current directory\n",
    "os.chdir(\"/home/villegas/Documents/projet_5gmm/Atari/save\")"
   ]
  },
  {
   "cell_type": "markdown",
   "metadata": {
    "colab_type": "text",
    "id": "VmBsgLBKu61a"
   },
   "source": [
    "## Class Agent"
   ]
  },
  {
   "cell_type": "code",
   "execution_count": 3,
   "metadata": {
    "colab": {},
    "colab_type": "code",
    "id": "PkDxhKc5vA6A"
   },
   "outputs": [],
   "source": [
    "class DQN_Breakout_Agent:\n",
    "    def __init__(self, action_size):\n",
    "        self.state_size = (4, 84, 74)\n",
    "        self.action_size = action_size\n",
    "        \n",
    "        self.memory = deque(maxlen=10000)\n",
    "        self.gamma = 0.95    # discount rate\n",
    "        self.epsilon = 1.0  # exploration rate\n",
    "        self.epsilon_min = 0.01\n",
    "        self.epsilon_decay = 0.96\n",
    "        self.learning_rate = 0.001\n",
    "        self.model = self._build_model()\n",
    "        \n",
    "        self.current_stack = deque(maxlen=4) # preprocessing stack of frames\n",
    "\n",
    "    def _build_model(self):\n",
    "        # Neural Net for Deep-Q learning Model\n",
    "        model = Sequential()\n",
    "        model.add(Dense(32, input_dim=self.state_size, activation='relu'))\n",
    "        model.add(Dense(32, activation='relu'))\n",
    "        model.add(Dense(self.action_size, activation='linear'))\n",
    "        model.compile(loss='mse',\n",
    "                      optimizer=Adam(lr=self.learning_rate))\n",
    "        return model\n",
    "    \n",
    "    # enregistre ce qu'il a fait et stock dans son deque(=liste avec limite)\n",
    "    def remember(self, state, action, reward, next_state, done):\n",
    "        self.memory.append((state, action, reward, next_state, done))\n",
    "\n",
    "    def act(self, state):\n",
    "        if np.random.rand() <= self.epsilon:\n",
    "            return random.randrange(self.action_size) # Hazard\n",
    "        # Approximation de la ligne de la Q table avec le réseau de neurone\n",
    "        act_values = self.model.predict(state)\n",
    "        return np.argmax(act_values[0])  # returns action ()\n",
    "    \n",
    "    def learn(self, state, action, reward, next_state, done):\n",
    "        target = reward\n",
    "        if not done:\n",
    "            target = (reward + self.gamma *\n",
    "                      np.amax(self.model.predict(next_state)[0]))\n",
    "        target_f = self.model.predict(state)\n",
    "        target_f[0][action] = target\n",
    "        self.model.fit(state, target_f, epochs=1, verbose=0)\n",
    "\n",
    "    # Rejoue et apprend batch_size événement au hazard dans son deque\n",
    "    def replay(self, batch_size):\n",
    "        minibatch = random.sample(self.memory, batch_size)\n",
    "        for state, action, reward, next_state, done in minibatch:\n",
    "            self.learn(state, action, reward, next_state, done)\n",
    "            \n",
    "    def refresh(self):\n",
    "        if self.epsilon > self.epsilon_min :\n",
    "            self.epsilon *= self.epsilon_decay\n",
    "            \n",
    "    # On initialise en écrasant tout     \n",
    "    def init_stack(self, frm):\n",
    "        for i in range(4):\n",
    "            self.current_stack.append(frm)\n",
    "     \n",
    "    # update the 4 current stack frames\n",
    "    def update_stack(self, frm):\n",
    "        self.current_stack.append(frm)\n",
    "    \n",
    "    # Return an 1x4x84x74 batch\n",
    "    def get_current_batch(self):\n",
    "        return np.copy(np.array([self.current_stack]))\n",
    "\n",
    "    def load(self, name):\n",
    "        self.model.load_weights(name)\n",
    "\n",
    "    def save(self, name):\n",
    "        self.model.save_weights(name)\n"
   ]
  },
  {
   "cell_type": "markdown",
   "metadata": {
    "colab_type": "text",
    "id": "wgnITQvU61AS"
   },
   "source": [
    "## New fonctions"
   ]
  },
  {
   "cell_type": "code",
   "execution_count": 43,
   "metadata": {
    "colab": {},
    "colab_type": "code",
    "id": "v3bARQla61Gb"
   },
   "outputs": [],
   "source": [
    "def preprocessing(img):\n",
    "  \"\"\"\n",
    "  Gray-scale, reduce edges and down-sampling img to a 84×74 image\n",
    "  \"\"\"\n",
    "  return np.mean(img, axis=2).astype(np.uint8)[30:-12,6:-6][::2,::2]"
   ]
  },
  {
   "cell_type": "markdown",
   "metadata": {
    "colab_type": "text",
    "id": "J20zUd7kfTm4"
   },
   "source": [
    "## Main"
   ]
  },
  {
   "cell_type": "code",
   "execution_count": 8,
   "metadata": {
    "colab": {
     "base_uri": "https://localhost:8080/",
     "height": 85
    },
    "colab_type": "code",
    "id": "MpYuPMxOfZ66",
    "outputId": "4a129369-9e4a-42c9-b553-28b000809987"
   },
   "outputs": [
    {
     "name": "stdout",
     "output_type": "stream",
     "text": [
      "State size : (210, 160, 3)\n",
      "Action size : 4\n"
     ]
    }
   ],
   "source": [
    "env = gym.make('Breakout-v0')\n",
    "print(\"State size : %s\\nAction size : %s\"%(env.observation_space.shape,env.action_space.n))\n",
    "\n",
    "agent = DQN_Breakout_Agent(action_size = env.action_space.n)\n",
    "\n",
    "EPISODES = 10\n",
    "TIME_LIMIT = 10**8\n",
    "\n",
    "DISPLAY = True"
   ]
  },
  {
   "cell_type": "code",
   "execution_count": 0,
   "metadata": {
    "colab": {
     "base_uri": "https://localhost:8080/",
     "height": 1526
    },
    "colab_type": "code",
    "id": "tB9geWjBfTtR",
    "outputId": "ec2028c9-aae7-4129-dde5-dfb5cba5b280"
   },
   "outputs": [
    {
     "name": "stderr",
     "output_type": "stream",
     "text": [
      "/usr/local/lib/python3.6/dist-packages/gym/envs/registration.py:14: PkgResourcesDeprecationWarning: Parameters to load are deprecated.  Call .resolve and .require separately.\n",
      "  result = entry_point.load(False)\n"
     ]
    },
    {
     "name": "stdout",
     "output_type": "stream",
     "text": [
      "(1, 4)\n"
     ]
    },
    {
     "ename": "ReraisedException",
     "evalue": "ignored",
     "output_type": "error",
     "traceback": [
      "\u001b[0;31m---------------------------------------------------------------------------\u001b[0m",
      "\u001b[0;31mReraisedException\u001b[0m                         Traceback (most recent call last)",
      "\u001b[0;32m<ipython-input-103-282e25bbe3f1>\u001b[0m in \u001b[0;36m<module>\u001b[0;34m()\u001b[0m\n\u001b[1;32m      6\u001b[0m     \u001b[0;31m#score = []\u001b[0m\u001b[0;34m\u001b[0m\u001b[0;34m\u001b[0m\u001b[0m\n\u001b[1;32m      7\u001b[0m     \u001b[0;32mfor\u001b[0m \u001b[0mtime\u001b[0m \u001b[0;32min\u001b[0m \u001b[0mrange\u001b[0m\u001b[0;34m(\u001b[0m\u001b[0mTIME_LIMIT\u001b[0m\u001b[0;34m)\u001b[0m\u001b[0;34m:\u001b[0m\u001b[0;34m\u001b[0m\u001b[0m\n\u001b[0;32m----> 8\u001b[0;31m         \u001b[0menv\u001b[0m\u001b[0;34m.\u001b[0m\u001b[0mrender\u001b[0m\u001b[0;34m(\u001b[0m\u001b[0;34m)\u001b[0m\u001b[0;34m\u001b[0m\u001b[0m\n\u001b[0m\u001b[1;32m      9\u001b[0m         \u001b[0maction\u001b[0m \u001b[0;34m=\u001b[0m \u001b[0magent\u001b[0m\u001b[0;34m.\u001b[0m\u001b[0mact\u001b[0m\u001b[0;34m(\u001b[0m\u001b[0mstate\u001b[0m\u001b[0;34m)\u001b[0m\u001b[0;34m\u001b[0m\u001b[0m\n\u001b[1;32m     10\u001b[0m         \u001b[0mnext_state\u001b[0m\u001b[0;34m,\u001b[0m \u001b[0mreward\u001b[0m\u001b[0;34m,\u001b[0m \u001b[0mdone\u001b[0m\u001b[0;34m,\u001b[0m \u001b[0m_\u001b[0m \u001b[0;34m=\u001b[0m \u001b[0menv\u001b[0m\u001b[0;34m.\u001b[0m\u001b[0mstep\u001b[0m\u001b[0;34m(\u001b[0m\u001b[0maction\u001b[0m\u001b[0;34m)\u001b[0m \u001b[0;31m# take a action\u001b[0m\u001b[0;34m\u001b[0m\u001b[0m\n",
      "\u001b[0;32m/usr/local/lib/python3.6/dist-packages/gym/core.py\u001b[0m in \u001b[0;36mrender\u001b[0;34m(self, mode, **kwargs)\u001b[0m\n\u001b[1;32m    273\u001b[0m \u001b[0;34m\u001b[0m\u001b[0m\n\u001b[1;32m    274\u001b[0m     \u001b[0;32mdef\u001b[0m \u001b[0mrender\u001b[0m\u001b[0;34m(\u001b[0m\u001b[0mself\u001b[0m\u001b[0;34m,\u001b[0m \u001b[0mmode\u001b[0m\u001b[0;34m=\u001b[0m\u001b[0;34m'human'\u001b[0m\u001b[0;34m,\u001b[0m \u001b[0;34m**\u001b[0m\u001b[0mkwargs\u001b[0m\u001b[0;34m)\u001b[0m\u001b[0;34m:\u001b[0m\u001b[0;34m\u001b[0m\u001b[0m\n\u001b[0;32m--> 275\u001b[0;31m         \u001b[0;32mreturn\u001b[0m \u001b[0mself\u001b[0m\u001b[0;34m.\u001b[0m\u001b[0menv\u001b[0m\u001b[0;34m.\u001b[0m\u001b[0mrender\u001b[0m\u001b[0;34m(\u001b[0m\u001b[0mmode\u001b[0m\u001b[0;34m,\u001b[0m \u001b[0;34m**\u001b[0m\u001b[0mkwargs\u001b[0m\u001b[0;34m)\u001b[0m\u001b[0;34m\u001b[0m\u001b[0m\n\u001b[0m\u001b[1;32m    276\u001b[0m \u001b[0;34m\u001b[0m\u001b[0m\n\u001b[1;32m    277\u001b[0m     \u001b[0;32mdef\u001b[0m \u001b[0mclose\u001b[0m\u001b[0;34m(\u001b[0m\u001b[0mself\u001b[0m\u001b[0;34m)\u001b[0m\u001b[0;34m:\u001b[0m\u001b[0;34m\u001b[0m\u001b[0m\n",
      "\u001b[0;32m/usr/local/lib/python3.6/dist-packages/gym/envs/classic_control/cartpole.py\u001b[0m in \u001b[0;36mrender\u001b[0;34m(self, mode)\u001b[0m\n\u001b[1;32m    148\u001b[0m \u001b[0;34m\u001b[0m\u001b[0m\n\u001b[1;32m    149\u001b[0m         \u001b[0;32mif\u001b[0m \u001b[0mself\u001b[0m\u001b[0;34m.\u001b[0m\u001b[0mviewer\u001b[0m \u001b[0;32mis\u001b[0m \u001b[0;32mNone\u001b[0m\u001b[0;34m:\u001b[0m\u001b[0;34m\u001b[0m\u001b[0m\n\u001b[0;32m--> 150\u001b[0;31m             \u001b[0;32mfrom\u001b[0m \u001b[0mgym\u001b[0m\u001b[0;34m.\u001b[0m\u001b[0menvs\u001b[0m\u001b[0;34m.\u001b[0m\u001b[0mclassic_control\u001b[0m \u001b[0;32mimport\u001b[0m \u001b[0mrendering\u001b[0m\u001b[0;34m\u001b[0m\u001b[0m\n\u001b[0m\u001b[1;32m    151\u001b[0m             \u001b[0mself\u001b[0m\u001b[0;34m.\u001b[0m\u001b[0mviewer\u001b[0m \u001b[0;34m=\u001b[0m \u001b[0mrendering\u001b[0m\u001b[0;34m.\u001b[0m\u001b[0mViewer\u001b[0m\u001b[0;34m(\u001b[0m\u001b[0mscreen_width\u001b[0m\u001b[0;34m,\u001b[0m \u001b[0mscreen_height\u001b[0m\u001b[0;34m)\u001b[0m\u001b[0;34m\u001b[0m\u001b[0m\n\u001b[1;32m    152\u001b[0m             \u001b[0ml\u001b[0m\u001b[0;34m,\u001b[0m\u001b[0mr\u001b[0m\u001b[0;34m,\u001b[0m\u001b[0mt\u001b[0m\u001b[0;34m,\u001b[0m\u001b[0mb\u001b[0m \u001b[0;34m=\u001b[0m \u001b[0;34m-\u001b[0m\u001b[0mcartwidth\u001b[0m\u001b[0;34m/\u001b[0m\u001b[0;36m2\u001b[0m\u001b[0;34m,\u001b[0m \u001b[0mcartwidth\u001b[0m\u001b[0;34m/\u001b[0m\u001b[0;36m2\u001b[0m\u001b[0;34m,\u001b[0m \u001b[0mcartheight\u001b[0m\u001b[0;34m/\u001b[0m\u001b[0;36m2\u001b[0m\u001b[0;34m,\u001b[0m \u001b[0;34m-\u001b[0m\u001b[0mcartheight\u001b[0m\u001b[0;34m/\u001b[0m\u001b[0;36m2\u001b[0m\u001b[0;34m\u001b[0m\u001b[0m\n",
      "\u001b[0;32m/usr/local/lib/python3.6/dist-packages/gym/envs/classic_control/rendering.py\u001b[0m in \u001b[0;36m<module>\u001b[0;34m()\u001b[0m\n\u001b[1;32m     23\u001b[0m     \u001b[0;32mfrom\u001b[0m \u001b[0mpyglet\u001b[0m\u001b[0;34m.\u001b[0m\u001b[0mgl\u001b[0m \u001b[0;32mimport\u001b[0m \u001b[0;34m*\u001b[0m\u001b[0;34m\u001b[0m\u001b[0m\n\u001b[1;32m     24\u001b[0m \u001b[0;32mexcept\u001b[0m \u001b[0mImportError\u001b[0m \u001b[0;32mas\u001b[0m \u001b[0me\u001b[0m\u001b[0;34m:\u001b[0m\u001b[0;34m\u001b[0m\u001b[0m\n\u001b[0;32m---> 25\u001b[0;31m     \u001b[0mreraise\u001b[0m\u001b[0;34m(\u001b[0m\u001b[0mprefix\u001b[0m\u001b[0;34m=\u001b[0m\u001b[0;34m\"Error occured while running `from pyglet.gl import *`\"\u001b[0m\u001b[0;34m,\u001b[0m\u001b[0msuffix\u001b[0m\u001b[0;34m=\u001b[0m\u001b[0;34m\"HINT: make sure you have OpenGL install. On Ubuntu, you can run 'apt-get install python-opengl'. If you're running on a server, you may need a virtual frame buffer; something like this should work: 'xvfb-run -s \\\"-screen 0 1400x900x24\\\" python <your_script.py>'\"\u001b[0m\u001b[0;34m)\u001b[0m\u001b[0;34m\u001b[0m\u001b[0m\n\u001b[0m\u001b[1;32m     26\u001b[0m \u001b[0;34m\u001b[0m\u001b[0m\n\u001b[1;32m     27\u001b[0m \u001b[0;32mimport\u001b[0m \u001b[0mmath\u001b[0m\u001b[0;34m\u001b[0m\u001b[0m\n",
      "\u001b[0;32m/usr/local/lib/python3.6/dist-packages/gym/utils/reraise.py\u001b[0m in \u001b[0;36mreraise\u001b[0;34m(prefix, suffix)\u001b[0m\n\u001b[1;32m     15\u001b[0m     \u001b[0me\u001b[0m \u001b[0;34m=\u001b[0m \u001b[0mReraisedException\u001b[0m\u001b[0;34m(\u001b[0m\u001b[0mold_exc_value\u001b[0m\u001b[0;34m,\u001b[0m \u001b[0mprefix\u001b[0m\u001b[0;34m,\u001b[0m \u001b[0msuffix\u001b[0m\u001b[0;34m)\u001b[0m\u001b[0;34m\u001b[0m\u001b[0m\n\u001b[1;32m     16\u001b[0m \u001b[0;34m\u001b[0m\u001b[0m\n\u001b[0;32m---> 17\u001b[0;31m     \u001b[0mreraise_impl\u001b[0m\u001b[0;34m(\u001b[0m\u001b[0me\u001b[0m\u001b[0;34m,\u001b[0m \u001b[0mtraceback\u001b[0m\u001b[0;34m)\u001b[0m\u001b[0;34m\u001b[0m\u001b[0m\n\u001b[0m\u001b[1;32m     18\u001b[0m \u001b[0;34m\u001b[0m\u001b[0m\n\u001b[1;32m     19\u001b[0m \u001b[0;31m# http://stackoverflow.com/a/13653312\u001b[0m\u001b[0;34m\u001b[0m\u001b[0;34m\u001b[0m\u001b[0m\n",
      "\u001b[0;32m/usr/local/lib/python3.6/dist-packages/gym/utils/reraise_impl_py3.py\u001b[0m in \u001b[0;36mreraise_impl\u001b[0;34m(e, traceback)\u001b[0m\n\u001b[1;32m      2\u001b[0m \u001b[0;31m# semi-smart exception chaining, which we don't want in this case.\u001b[0m\u001b[0;34m\u001b[0m\u001b[0;34m\u001b[0m\u001b[0m\n\u001b[1;32m      3\u001b[0m \u001b[0;32mdef\u001b[0m \u001b[0mreraise_impl\u001b[0m\u001b[0;34m(\u001b[0m\u001b[0me\u001b[0m\u001b[0;34m,\u001b[0m \u001b[0mtraceback\u001b[0m\u001b[0;34m)\u001b[0m\u001b[0;34m:\u001b[0m\u001b[0;34m\u001b[0m\u001b[0m\n\u001b[0;32m----> 4\u001b[0;31m     \u001b[0;32mraise\u001b[0m \u001b[0me\u001b[0m\u001b[0;34m.\u001b[0m\u001b[0mwith_traceback\u001b[0m\u001b[0;34m(\u001b[0m\u001b[0mtraceback\u001b[0m\u001b[0;34m)\u001b[0m \u001b[0;32mfrom\u001b[0m \u001b[0;32mNone\u001b[0m\u001b[0;34m\u001b[0m\u001b[0m\n\u001b[0m",
      "\u001b[0;32m/usr/local/lib/python3.6/dist-packages/gym/envs/classic_control/rendering.py\u001b[0m in \u001b[0;36m<module>\u001b[0;34m()\u001b[0m\n\u001b[1;32m     21\u001b[0m \u001b[0;34m\u001b[0m\u001b[0m\n\u001b[1;32m     22\u001b[0m \u001b[0;32mtry\u001b[0m\u001b[0;34m:\u001b[0m\u001b[0;34m\u001b[0m\u001b[0m\n\u001b[0;32m---> 23\u001b[0;31m     \u001b[0;32mfrom\u001b[0m \u001b[0mpyglet\u001b[0m\u001b[0;34m.\u001b[0m\u001b[0mgl\u001b[0m \u001b[0;32mimport\u001b[0m \u001b[0;34m*\u001b[0m\u001b[0;34m\u001b[0m\u001b[0m\n\u001b[0m\u001b[1;32m     24\u001b[0m \u001b[0;32mexcept\u001b[0m \u001b[0mImportError\u001b[0m \u001b[0;32mas\u001b[0m \u001b[0me\u001b[0m\u001b[0;34m:\u001b[0m\u001b[0;34m\u001b[0m\u001b[0m\n\u001b[1;32m     25\u001b[0m     \u001b[0mreraise\u001b[0m\u001b[0;34m(\u001b[0m\u001b[0mprefix\u001b[0m\u001b[0;34m=\u001b[0m\u001b[0;34m\"Error occured while running `from pyglet.gl import *`\"\u001b[0m\u001b[0;34m,\u001b[0m\u001b[0msuffix\u001b[0m\u001b[0;34m=\u001b[0m\u001b[0;34m\"HINT: make sure you have OpenGL install. On Ubuntu, you can run 'apt-get install python-opengl'. If you're running on a server, you may need a virtual frame buffer; something like this should work: 'xvfb-run -s \\\"-screen 0 1400x900x24\\\" python <your_script.py>'\"\u001b[0m\u001b[0;34m)\u001b[0m\u001b[0;34m\u001b[0m\u001b[0m\n",
      "\u001b[0;32m/usr/local/lib/python3.6/dist-packages/pyglet/gl/__init__.py\u001b[0m in \u001b[0;36m<module>\u001b[0;34m()\u001b[0m\n\u001b[1;32m     98\u001b[0m \u001b[0m__version__\u001b[0m \u001b[0;34m=\u001b[0m \u001b[0;34m'$Id$'\u001b[0m\u001b[0;34m\u001b[0m\u001b[0m\n\u001b[1;32m     99\u001b[0m \u001b[0;34m\u001b[0m\u001b[0m\n\u001b[0;32m--> 100\u001b[0;31m \u001b[0;32mfrom\u001b[0m \u001b[0mpyglet\u001b[0m\u001b[0;34m.\u001b[0m\u001b[0mgl\u001b[0m\u001b[0;34m.\u001b[0m\u001b[0mlib\u001b[0m \u001b[0;32mimport\u001b[0m \u001b[0mGLException\u001b[0m\u001b[0;34m\u001b[0m\u001b[0m\n\u001b[0m\u001b[1;32m    101\u001b[0m \u001b[0;32mfrom\u001b[0m \u001b[0mpyglet\u001b[0m\u001b[0;34m.\u001b[0m\u001b[0mgl\u001b[0m\u001b[0;34m.\u001b[0m\u001b[0mgl\u001b[0m \u001b[0;32mimport\u001b[0m \u001b[0;34m*\u001b[0m\u001b[0;34m\u001b[0m\u001b[0m\n\u001b[1;32m    102\u001b[0m \u001b[0;32mfrom\u001b[0m \u001b[0mpyglet\u001b[0m\u001b[0;34m.\u001b[0m\u001b[0mgl\u001b[0m\u001b[0;34m.\u001b[0m\u001b[0mglu\u001b[0m \u001b[0;32mimport\u001b[0m \u001b[0;34m*\u001b[0m\u001b[0;34m\u001b[0m\u001b[0m\n",
      "\u001b[0;32m/usr/local/lib/python3.6/dist-packages/pyglet/gl/lib.py\u001b[0m in \u001b[0;36m<module>\u001b[0;34m()\u001b[0m\n\u001b[1;32m    141\u001b[0m     \u001b[0;32mfrom\u001b[0m \u001b[0mpyglet\u001b[0m\u001b[0;34m.\u001b[0m\u001b[0mgl\u001b[0m\u001b[0;34m.\u001b[0m\u001b[0mlib_agl\u001b[0m \u001b[0;32mimport\u001b[0m \u001b[0mlink_GL\u001b[0m\u001b[0;34m,\u001b[0m \u001b[0mlink_GLU\u001b[0m\u001b[0;34m,\u001b[0m \u001b[0mlink_AGL\u001b[0m\u001b[0;34m\u001b[0m\u001b[0m\n\u001b[1;32m    142\u001b[0m \u001b[0;32melse\u001b[0m\u001b[0;34m:\u001b[0m\u001b[0;34m\u001b[0m\u001b[0m\n\u001b[0;32m--> 143\u001b[0;31m     \u001b[0;32mfrom\u001b[0m \u001b[0mpyglet\u001b[0m\u001b[0;34m.\u001b[0m\u001b[0mgl\u001b[0m\u001b[0;34m.\u001b[0m\u001b[0mlib_glx\u001b[0m \u001b[0;32mimport\u001b[0m \u001b[0mlink_GL\u001b[0m\u001b[0;34m,\u001b[0m \u001b[0mlink_GLU\u001b[0m\u001b[0;34m,\u001b[0m \u001b[0mlink_GLX\u001b[0m\u001b[0;34m\u001b[0m\u001b[0m\n\u001b[0m\u001b[1;32m    144\u001b[0m \u001b[0;34m\u001b[0m\u001b[0m\n",
      "\u001b[0;32m/usr/local/lib/python3.6/dist-packages/pyglet/gl/lib_glx.py\u001b[0m in \u001b[0;36m<module>\u001b[0;34m()\u001b[0m\n\u001b[1;32m     48\u001b[0m \u001b[0m__all__\u001b[0m \u001b[0;34m=\u001b[0m \u001b[0;34m[\u001b[0m\u001b[0;34m'link_GL'\u001b[0m\u001b[0;34m,\u001b[0m \u001b[0;34m'link_GLU'\u001b[0m\u001b[0;34m,\u001b[0m \u001b[0;34m'link_GLX'\u001b[0m\u001b[0;34m]\u001b[0m\u001b[0;34m\u001b[0m\u001b[0m\n\u001b[1;32m     49\u001b[0m \u001b[0;34m\u001b[0m\u001b[0m\n\u001b[0;32m---> 50\u001b[0;31m \u001b[0mgl_lib\u001b[0m \u001b[0;34m=\u001b[0m \u001b[0mpyglet\u001b[0m\u001b[0;34m.\u001b[0m\u001b[0mlib\u001b[0m\u001b[0;34m.\u001b[0m\u001b[0mload_library\u001b[0m\u001b[0;34m(\u001b[0m\u001b[0;34m'GL'\u001b[0m\u001b[0;34m)\u001b[0m\u001b[0;34m\u001b[0m\u001b[0m\n\u001b[0m\u001b[1;32m     51\u001b[0m \u001b[0mglu_lib\u001b[0m \u001b[0;34m=\u001b[0m \u001b[0mpyglet\u001b[0m\u001b[0;34m.\u001b[0m\u001b[0mlib\u001b[0m\u001b[0;34m.\u001b[0m\u001b[0mload_library\u001b[0m\u001b[0;34m(\u001b[0m\u001b[0;34m'GLU'\u001b[0m\u001b[0;34m)\u001b[0m\u001b[0;34m\u001b[0m\u001b[0m\n\u001b[1;32m     52\u001b[0m \u001b[0;34m\u001b[0m\u001b[0m\n",
      "\u001b[0;32m/usr/local/lib/python3.6/dist-packages/pyglet/lib.py\u001b[0m in \u001b[0;36mload_library\u001b[0;34m(self, *names, **kwargs)\u001b[0m\n\u001b[1;32m    156\u001b[0m                     \u001b[0;32mexcept\u001b[0m \u001b[0mOSError\u001b[0m\u001b[0;34m:\u001b[0m\u001b[0;34m\u001b[0m\u001b[0m\n\u001b[1;32m    157\u001b[0m                         \u001b[0;32mpass\u001b[0m\u001b[0;34m\u001b[0m\u001b[0m\n\u001b[0;32m--> 158\u001b[0;31m         \u001b[0;32mraise\u001b[0m \u001b[0mImportError\u001b[0m\u001b[0;34m(\u001b[0m\u001b[0;34m'Library \"%s\" not found.'\u001b[0m \u001b[0;34m%\u001b[0m \u001b[0mnames\u001b[0m\u001b[0;34m[\u001b[0m\u001b[0;36m0\u001b[0m\u001b[0;34m]\u001b[0m\u001b[0;34m)\u001b[0m\u001b[0;34m\u001b[0m\u001b[0m\n\u001b[0m\u001b[1;32m    159\u001b[0m \u001b[0;34m\u001b[0m\u001b[0m\n\u001b[1;32m    160\u001b[0m     \u001b[0mfind_library\u001b[0m \u001b[0;34m=\u001b[0m \u001b[0;32mlambda\u001b[0m \u001b[0mself\u001b[0m\u001b[0;34m,\u001b[0m \u001b[0mname\u001b[0m\u001b[0;34m:\u001b[0m \u001b[0mctypes\u001b[0m\u001b[0;34m.\u001b[0m\u001b[0mutil\u001b[0m\u001b[0;34m.\u001b[0m\u001b[0mfind_library\u001b[0m\u001b[0;34m(\u001b[0m\u001b[0mname\u001b[0m\u001b[0;34m)\u001b[0m\u001b[0;34m\u001b[0m\u001b[0m\n",
      "\u001b[0;31mReraisedException\u001b[0m: Error occured while running `from pyglet.gl import *`\nThe original exception was:\n\nImportError: Library \"GL\" not found.\n\nHINT: make sure you have OpenGL install. On Ubuntu, you can run 'apt-get install python-opengl'. If you're running on a server, you may need a virtual frame buffer; something like this should work: 'xvfb-run -s \"-screen 0 1400x900x24\" python <your_script.py>'"
     ]
    }
   ],
   "source": [
    "for e in range(EPISODES):\n",
    "    state = env.reset()\n",
    "    state = preprocessing(state)\n",
    "    state = agent.init_batch(state) # Pour avoit un batch initiale 1x4x84x74\n",
    "    \n",
    "    #score = []\n",
    "    for time in range(TIME_LIMIT):\n",
    "        #env.render()        \n",
    "        action = agent.act(state)\n",
    "        raw_next_state, reward, done, info = env.step(action) # take a action\n",
    "        \n",
    "        # Dès qu'on perd une vie sur les 5, on considère qu'on a perdu\n",
    "        if info['ale.lives'] < 5 :\n",
    "            done = True\n",
    "            \n",
    "        frame = preprocessing(raw_next_state ) \n",
    "        agent.add_frame(frame) # update the 4 current stack frames\n",
    "        next_state = agent.get_current_batch() # Pour que notre state soit un batch 1x4x84x74\n",
    "        \n",
    "        agent.remember(state, action, reward, next_state, done)\n",
    "        state = next_state\n",
    "        \n",
    "        if done and DISPLAY:\n",
    "            print(\"episode: {}, score: {:.2}, e: {:.2}\"\n",
    "                  .format(e, 0, agent.epsilon))\n",
    "            break\n",
    "        if len(agent.memory) > batch_size: # On se souvient si on a joué au moins batch_size fois.\n",
    "            agent.replay(batch_size)       # On n'apprend que sur ses souvenirs, pas sur le coup immédiat\n",
    "    agent.refresh() # update epsillon \n",
    "    #if e % 10 == 8:\n",
    "        #agent.save(\"lunarlander-dqn.h5\")\n",
    "env.close()"
   ]
  },
  {
   "cell_type": "markdown",
   "metadata": {
    "colab_type": "text",
    "id": "HEOpfax3vBED"
   },
   "source": [
    "## Tests"
   ]
  },
  {
   "cell_type": "code",
   "execution_count": 0,
   "metadata": {
    "colab": {},
    "colab_type": "code",
    "id": "1QDesNUmtnMB"
   },
   "outputs": [],
   "source": [
    "obs = env.reset()\n",
    "obs = np.array(obs)\n",
    "#env.render()\n",
    "I = preprocessing(obs)"
   ]
  },
  {
   "cell_type": "code",
   "execution_count": 44,
   "metadata": {
    "colab": {
     "base_uri": "https://localhost:8080/",
     "height": 655
    },
    "colab_type": "code",
    "id": "Rw3cN6XPwGoZ",
    "outputId": "ebb71709-5a13-464f-c3b8-24a1a4feea87"
   },
   "outputs": [
    {
     "name": "stdout",
     "output_type": "stream",
     "text": [
      "(84, 74)\n",
      "(210, 160, 3)\n"
     ]
    },
    {
     "data": {
      "image/png": "[encoded data removed]",
      "text/plain": [
       "<Figure size 576x756 with 1 Axes>"
      ]
     },
     "metadata": {},
     "output_type": "display_data"
    }
   ],
   "source": [
    "I = obs[::2,::2,:]\n",
    "I = obs\n",
    "print(preprocessing(obs).shape)\n",
    "print(obs.shape)\n",
    "\n",
    "size = 8\n",
    "plt.figure(figsize=(size,size*21/16))\n",
    "#plt.imshow(obs,\"gray\")\n",
    "#plt.imshow(obs,\"gray\")\n",
    "plt.imshow(preprocessing(obs),\"gray\")\n",
    "plt.grid(True)\n",
    "plt.show()"
   ]
  },
  {
   "cell_type": "code",
   "execution_count": 45,
   "metadata": {
    "colab": {
     "base_uri": "https://localhost:8080/",
     "height": 400
    },
    "colab_type": "code",
    "id": "QjfFgeLnU0UB",
    "outputId": "fce3cac6-7a9f-4542-9347-fd3a63611d65"
   },
   "outputs": [
    {
     "name": "stdout",
     "output_type": "stream",
     "text": [
      "(2, 4, 84, 74)\n",
      "<class 'numpy.ndarray'>\n"
     ]
    },
    {
     "data": {
      "text/plain": [
       "<matplotlib.image.AxesImage at 0x7fbbf71b8fd0>"
      ]
     },
     "execution_count": 45,
     "metadata": {},
     "output_type": "execute_result"
    },
    {
     "data": {
      "image/png": "[encoded data removed]",
      "text/plain": [
       "<Figure size 432x288 with 1 Axes>"
      ]
     },
     "metadata": {},
     "output_type": "display_data"
    }
   ],
   "source": [
    "frame = preprocessing(frame)\n",
    "II = []\n",
    "I_list = []\n",
    "I_list.append(frame)\n",
    "I_list.append(frame)\n",
    "I_list.append(frame)\n",
    "I_list.append(frame)\n",
    "II.append(I_list)\n",
    "II.append(I_list)\n",
    "\n",
    "II = np.array(II)\n",
    "\n",
    "print(II.shape)\n",
    "print(type(II))\n",
    "plt.imshow(II[0][0])"
   ]
  },
  {
   "cell_type": "code",
   "execution_count": 36,
   "metadata": {},
   "outputs": [
    {
     "name": "stdout",
     "output_type": "stream",
     "text": [
      "{'ale.lives': 2}\n",
      "2\n"
     ]
    }
   ],
   "source": [
    "obs, reward, done, info = env.step(0)\n",
    "print(info)\n",
    "print(info['ale.lives'])\n"
   ]
  },
  {
   "cell_type": "code",
   "execution_count": 30,
   "metadata": {},
   "outputs": [],
   "source": [
    "def plot_environment(env, figsize=(5,4)):\n",
    "    plt.close()  # or else nbagg sometimes plots in the previous cell\n",
    "    f = plt.figure(figsize=figsize)\n",
    "    img = env.render(mode=\"rgb_array\")\n",
    "    plt.imshow(img)\n",
    "    plt.axis(\"off\")\n",
    "    plt.show()\n",
    "    plt.close(f)\n",
    "    plt.gcf()"
   ]
  },
  {
   "cell_type": "code",
   "execution_count": 41,
   "metadata": {
    "colab": {
     "base_uri": "https://localhost:8080/",
     "height": 10614
    },
    "colab_type": "code",
    "id": "sf7RPKizMM47",
    "outputId": "05835671-a0ba-4cf2-c252-1115577abbfb"
   },
   "outputs": [
    {
     "data": {
      "image/png": "[encoded data removed]",
      "text/plain": [
       "<Figure size 432x288 with 1 Axes>"
      ]
     },
     "metadata": {},
     "output_type": "display_data"
    },
    {
     "name": "stdout",
     "output_type": "stream",
     "text": [
      "NEW GAME\n",
      "0.0 False {'ale.lives': 5}\n",
      "0.0 False {'ale.lives': 5}\n",
      "0.0 False {'ale.lives': 5}\n",
      "0.0 False {'ale.lives': 5}\n",
      "0.0 False {'ale.lives': 5}\n",
      "0.0 False {'ale.lives': 5}\n",
      "0.0 False {'ale.lives': 5}\n",
      "0.0 False {'ale.lives': 5}\n",
      "0.0 False {'ale.lives': 5}\n",
      "0.0 False {'ale.lives': 5}\n",
      "0.0 False {'ale.lives': 5}\n",
      "0.0 False {'ale.lives': 5}\n",
      "0.0 False {'ale.lives': 5}\n",
      "0.0 False {'ale.lives': 5}\n",
      "0.0 False {'ale.lives': 5}\n",
      "0.0 False {'ale.lives': 5}\n",
      "0.0 False {'ale.lives': 5}\n",
      "0.0 False {'ale.lives': 5}\n",
      "0.0 False {'ale.lives': 5}\n",
      "0.0 False {'ale.lives': 5}\n",
      "0.0 False {'ale.lives': 5}\n",
      "0.0 False {'ale.lives': 5}\n",
      "0.0 False {'ale.lives': 5}\n",
      "0.0 False {'ale.lives': 5}\n",
      "0.0 False {'ale.lives': 5}\n",
      "0.0 False {'ale.lives': 5}\n",
      "0.0 False {'ale.lives': 5}\n",
      "0.0 False {'ale.lives': 5}\n",
      "0.0 False {'ale.lives': 5}\n",
      "0.0 False {'ale.lives': 5}\n",
      "0.0 False {'ale.lives': 5}\n",
      "0.0 False {'ale.lives': 5}\n",
      "0.0 False {'ale.lives': 5}\n",
      "0.0 False {'ale.lives': 5}\n",
      "0.0 False {'ale.lives': 4}\n",
      "0.0 False {'ale.lives': 4}\n",
      "0.0 False {'ale.lives': 4}\n",
      "0.0 False {'ale.lives': 4}\n",
      "0.0 False {'ale.lives': 4}\n",
      "0.0 False {'ale.lives': 4}\n",
      "0.0 False {'ale.lives': 4}\n",
      "0.0 False {'ale.lives': 4}\n",
      "0.0 False {'ale.lives': 4}\n",
      "0.0 False {'ale.lives': 4}\n",
      "0.0 False {'ale.lives': 4}\n",
      "0.0 False {'ale.lives': 4}\n",
      "0.0 False {'ale.lives': 4}\n",
      "0.0 False {'ale.lives': 4}\n",
      "0.0 False {'ale.lives': 4}\n",
      "0.0 False {'ale.lives': 4}\n",
      "0.0 False {'ale.lives': 4}\n",
      "0.0 False {'ale.lives': 4}\n",
      "0.0 False {'ale.lives': 4}\n",
      "0.0 False {'ale.lives': 4}\n",
      "0.0 False {'ale.lives': 4}\n",
      "0.0 False {'ale.lives': 4}\n",
      "0.0 False {'ale.lives': 4}\n",
      "0.0 False {'ale.lives': 4}\n",
      "0.0 False {'ale.lives': 4}\n",
      "0.0 False {'ale.lives': 4}\n",
      "0.0 False {'ale.lives': 4}\n",
      "0.0 False {'ale.lives': 4}\n",
      "0.0 False {'ale.lives': 4}\n",
      "0.0 False {'ale.lives': 4}\n",
      "0.0 False {'ale.lives': 4}\n",
      "0.0 False {'ale.lives': 4}\n",
      "0.0 False {'ale.lives': 4}\n",
      "0.0 False {'ale.lives': 3}\n",
      "0.0 False {'ale.lives': 3}\n",
      "0.0 False {'ale.lives': 3}\n",
      "0.0 False {'ale.lives': 3}\n",
      "0.0 False {'ale.lives': 3}\n",
      "0.0 False {'ale.lives': 3}\n",
      "0.0 False {'ale.lives': 3}\n",
      "0.0 False {'ale.lives': 3}\n",
      "0.0 False {'ale.lives': 3}\n",
      "0.0 False {'ale.lives': 3}\n",
      "0.0 False {'ale.lives': 3}\n",
      "0.0 False {'ale.lives': 3}\n",
      "0.0 False {'ale.lives': 3}\n",
      "0.0 False {'ale.lives': 3}\n",
      "0.0 False {'ale.lives': 3}\n",
      "0.0 False {'ale.lives': 3}\n",
      "0.0 False {'ale.lives': 3}\n",
      "0.0 False {'ale.lives': 3}\n",
      "0.0 False {'ale.lives': 3}\n",
      "0.0 False {'ale.lives': 3}\n",
      "0.0 False {'ale.lives': 3}\n",
      "0.0 False {'ale.lives': 3}\n",
      "0.0 False {'ale.lives': 3}\n",
      "0.0 False {'ale.lives': 3}\n",
      "0.0 False {'ale.lives': 3}\n",
      "0.0 False {'ale.lives': 3}\n",
      "0.0 False {'ale.lives': 3}\n",
      "0.0 False {'ale.lives': 3}\n",
      "0.0 False {'ale.lives': 3}\n",
      "0.0 False {'ale.lives': 3}\n",
      "0.0 False {'ale.lives': 3}\n",
      "0.0 False {'ale.lives': 3}\n",
      "0.0 False {'ale.lives': 3}\n",
      "0.0 False {'ale.lives': 3}\n",
      "0.0 False {'ale.lives': 3}\n",
      "0.0 False {'ale.lives': 3}\n",
      "0.0 False {'ale.lives': 3}\n",
      "0.0 False {'ale.lives': 3}\n",
      "0.0 False {'ale.lives': 2}\n",
      "0.0 False {'ale.lives': 2}\n",
      "0.0 False {'ale.lives': 2}\n",
      "0.0 False {'ale.lives': 2}\n",
      "0.0 False {'ale.lives': 2}\n",
      "0.0 False {'ale.lives': 2}\n",
      "0.0 False {'ale.lives': 2}\n",
      "0.0 False {'ale.lives': 2}\n",
      "0.0 False {'ale.lives': 2}\n",
      "0.0 False {'ale.lives': 2}\n",
      "0.0 False {'ale.lives': 2}\n",
      "0.0 False {'ale.lives': 2}\n",
      "0.0 False {'ale.lives': 2}\n",
      "0.0 False {'ale.lives': 2}\n",
      "0.0 False {'ale.lives': 2}\n",
      "0.0 False {'ale.lives': 2}\n",
      "0.0 False {'ale.lives': 2}\n",
      "0.0 False {'ale.lives': 2}\n",
      "0.0 False {'ale.lives': 2}\n",
      "0.0 False {'ale.lives': 2}\n",
      "0.0 False {'ale.lives': 2}\n",
      "0.0 False {'ale.lives': 2}\n",
      "0.0 False {'ale.lives': 2}\n",
      "0.0 False {'ale.lives': 2}\n",
      "0.0 False {'ale.lives': 2}\n",
      "0.0 False {'ale.lives': 2}\n",
      "0.0 False {'ale.lives': 2}\n",
      "0.0 False {'ale.lives': 2}\n",
      "0.0 False {'ale.lives': 2}\n",
      "0.0 False {'ale.lives': 2}\n",
      "0.0 False {'ale.lives': 2}\n",
      "0.0 False {'ale.lives': 2}\n",
      "0.0 False {'ale.lives': 2}\n",
      "0.0 False {'ale.lives': 2}\n",
      "0.0 False {'ale.lives': 2}\n",
      "0.0 False {'ale.lives': 2}\n",
      "0.0 False {'ale.lives': 2}\n",
      "0.0 False {'ale.lives': 1}\n",
      "0.0 False {'ale.lives': 1}\n",
      "0.0 False {'ale.lives': 1}\n",
      "0.0 False {'ale.lives': 1}\n",
      "0.0 False {'ale.lives': 1}\n",
      "0.0 False {'ale.lives': 1}\n",
      "0.0 False {'ale.lives': 1}\n",
      "0.0 False {'ale.lives': 1}\n",
      "0.0 False {'ale.lives': 1}\n",
      "0.0 False {'ale.lives': 1}\n",
      "0.0 False {'ale.lives': 1}\n",
      "0.0 False {'ale.lives': 1}\n",
      "0.0 False {'ale.lives': 1}\n",
      "0.0 False {'ale.lives': 1}\n",
      "0.0 False {'ale.lives': 1}\n",
      "0.0 False {'ale.lives': 1}\n",
      "0.0 False {'ale.lives': 1}\n",
      "0.0 False {'ale.lives': 1}\n",
      "0.0 False {'ale.lives': 1}\n",
      "0.0 False {'ale.lives': 1}\n",
      "0.0 False {'ale.lives': 1}\n",
      "0.0 False {'ale.lives': 1}\n",
      "0.0 False {'ale.lives': 1}\n",
      "0.0 False {'ale.lives': 1}\n",
      "0.0 False {'ale.lives': 1}\n",
      "0.0 False {'ale.lives': 1}\n",
      "0.0 False {'ale.lives': 1}\n",
      "0.0 False {'ale.lives': 1}\n",
      "0.0 False {'ale.lives': 1}\n",
      "0.0 False {'ale.lives': 1}\n",
      "0.0 False {'ale.lives': 1}\n",
      "0.0 False {'ale.lives': 1}\n",
      "0.0 False {'ale.lives': 1}\n",
      "0.0 False {'ale.lives': 1}\n",
      "0.0 False {'ale.lives': 1}\n",
      "0.0 False {'ale.lives': 1}\n",
      "0.0 False {'ale.lives': 1}\n",
      "0.0 True {'ale.lives': 0}\n",
      "BREAK***********************************\n"
     ]
    },
    {
     "data": {
      "image/png": "[encoded data removed]",
      "text/plain": [
       "<Figure size 432x288 with 1 Axes>"
      ]
     },
     "metadata": {},
     "output_type": "display_data"
    },
    {
     "name": "stdout",
     "output_type": "stream",
     "text": [
      "NEW GAME\n",
      "0.0 False {'ale.lives': 5}\n",
      "0.0 False {'ale.lives': 5}\n",
      "0.0 False {'ale.lives': 5}\n",
      "0.0 False {'ale.lives': 5}\n",
      "0.0 False {'ale.lives': 5}\n",
      "0.0 False {'ale.lives': 5}\n",
      "0.0 False {'ale.lives': 5}\n",
      "0.0 False {'ale.lives': 5}\n",
      "0.0 False {'ale.lives': 5}\n",
      "0.0 False {'ale.lives': 5}\n",
      "0.0 False {'ale.lives': 5}\n",
      "0.0 False {'ale.lives': 5}\n",
      "0.0 False {'ale.lives': 5}\n",
      "0.0 False {'ale.lives': 5}\n",
      "0.0 False {'ale.lives': 5}\n",
      "0.0 False {'ale.lives': 5}\n",
      "0.0 False {'ale.lives': 5}\n",
      "0.0 False {'ale.lives': 5}\n",
      "0.0 False {'ale.lives': 5}\n",
      "0.0 False {'ale.lives': 5}\n",
      "0.0 False {'ale.lives': 5}\n",
      "0.0 False {'ale.lives': 5}\n",
      "0.0 False {'ale.lives': 5}\n",
      "0.0 False {'ale.lives': 5}\n",
      "0.0 False {'ale.lives': 5}\n",
      "0.0 False {'ale.lives': 5}\n",
      "0.0 False {'ale.lives': 5}\n",
      "0.0 False {'ale.lives': 5}\n",
      "0.0 False {'ale.lives': 5}\n",
      "0.0 False {'ale.lives': 5}\n",
      "0.0 False {'ale.lives': 5}\n",
      "0.0 False {'ale.lives': 5}\n",
      "0.0 False {'ale.lives': 5}\n",
      "0.0 False {'ale.lives': 4}\n",
      "0.0 False {'ale.lives': 4}\n",
      "0.0 False {'ale.lives': 4}\n",
      "0.0 False {'ale.lives': 4}\n",
      "0.0 False {'ale.lives': 4}\n",
      "0.0 False {'ale.lives': 4}\n",
      "0.0 False {'ale.lives': 4}\n",
      "0.0 False {'ale.lives': 4}\n",
      "0.0 False {'ale.lives': 4}\n",
      "0.0 False {'ale.lives': 4}\n",
      "0.0 False {'ale.lives': 4}\n",
      "0.0 False {'ale.lives': 4}\n",
      "0.0 False {'ale.lives': 4}\n",
      "0.0 False {'ale.lives': 4}\n",
      "0.0 False {'ale.lives': 4}\n",
      "0.0 False {'ale.lives': 4}\n",
      "0.0 False {'ale.lives': 4}\n",
      "0.0 False {'ale.lives': 4}\n",
      "0.0 False {'ale.lives': 4}\n",
      "0.0 False {'ale.lives': 4}\n",
      "0.0 False {'ale.lives': 4}\n",
      "0.0 False {'ale.lives': 4}\n",
      "0.0 False {'ale.lives': 4}\n",
      "0.0 False {'ale.lives': 4}\n",
      "0.0 False {'ale.lives': 4}\n",
      "0.0 False {'ale.lives': 4}\n",
      "0.0 False {'ale.lives': 4}\n",
      "0.0 False {'ale.lives': 4}\n",
      "0.0 False {'ale.lives': 4}\n",
      "0.0 False {'ale.lives': 4}\n",
      "0.0 False {'ale.lives': 4}\n",
      "0.0 False {'ale.lives': 4}\n",
      "0.0 False {'ale.lives': 4}\n",
      "0.0 False {'ale.lives': 3}\n",
      "0.0 False {'ale.lives': 3}\n",
      "0.0 False {'ale.lives': 3}\n",
      "0.0 False {'ale.lives': 3}\n",
      "0.0 False {'ale.lives': 3}\n",
      "0.0 False {'ale.lives': 3}\n",
      "0.0 False {'ale.lives': 3}\n",
      "0.0 False {'ale.lives': 3}\n",
      "0.0 False {'ale.lives': 3}\n",
      "0.0 False {'ale.lives': 3}\n",
      "0.0 False {'ale.lives': 3}\n",
      "0.0 False {'ale.lives': 3}\n",
      "0.0 False {'ale.lives': 3}\n",
      "0.0 False {'ale.lives': 3}\n",
      "0.0 False {'ale.lives': 3}\n",
      "0.0 False {'ale.lives': 3}\n",
      "0.0 False {'ale.lives': 3}\n",
      "0.0 False {'ale.lives': 3}\n",
      "0.0 False {'ale.lives': 3}\n",
      "0.0 False {'ale.lives': 3}\n",
      "0.0 False {'ale.lives': 3}\n",
      "0.0 False {'ale.lives': 3}\n",
      "0.0 False {'ale.lives': 3}\n",
      "0.0 False {'ale.lives': 3}\n",
      "0.0 False {'ale.lives': 3}\n",
      "0.0 False {'ale.lives': 3}\n",
      "0.0 False {'ale.lives': 3}\n",
      "0.0 False {'ale.lives': 3}\n",
      "0.0 False {'ale.lives': 3}\n",
      "0.0 False {'ale.lives': 3}\n",
      "0.0 False {'ale.lives': 3}\n",
      "0.0 False {'ale.lives': 3}\n",
      "0.0 False {'ale.lives': 2}\n",
      "0.0 False {'ale.lives': 2}\n",
      "0.0 False {'ale.lives': 2}\n",
      "0.0 False {'ale.lives': 2}\n",
      "0.0 False {'ale.lives': 2}\n",
      "0.0 False {'ale.lives': 2}\n",
      "0.0 False {'ale.lives': 2}\n",
      "0.0 False {'ale.lives': 2}\n",
      "0.0 False {'ale.lives': 2}\n",
      "0.0 False {'ale.lives': 2}\n",
      "0.0 False {'ale.lives': 2}\n",
      "0.0 False {'ale.lives': 2}\n",
      "0.0 False {'ale.lives': 2}\n",
      "0.0 False {'ale.lives': 2}\n",
      "0.0 False {'ale.lives': 2}\n",
      "0.0 False {'ale.lives': 2}\n",
      "0.0 False {'ale.lives': 2}\n",
      "0.0 False {'ale.lives': 2}\n",
      "0.0 False {'ale.lives': 2}\n",
      "0.0 False {'ale.lives': 2}\n",
      "0.0 False {'ale.lives': 2}\n",
      "0.0 False {'ale.lives': 2}\n",
      "0.0 False {'ale.lives': 2}\n",
      "0.0 False {'ale.lives': 2}\n",
      "0.0 False {'ale.lives': 2}\n",
      "0.0 False {'ale.lives': 2}\n",
      "0.0 False {'ale.lives': 2}\n",
      "0.0 False {'ale.lives': 2}\n",
      "0.0 False {'ale.lives': 2}\n",
      "0.0 False {'ale.lives': 2}\n",
      "0.0 False {'ale.lives': 1}\n",
      "0.0 False {'ale.lives': 1}\n",
      "0.0 False {'ale.lives': 1}\n",
      "0.0 False {'ale.lives': 1}\n",
      "0.0 False {'ale.lives': 1}\n",
      "0.0 False {'ale.lives': 1}\n",
      "0.0 False {'ale.lives': 1}\n",
      "0.0 False {'ale.lives': 1}\n",
      "0.0 False {'ale.lives': 1}\n",
      "0.0 False {'ale.lives': 1}\n",
      "0.0 False {'ale.lives': 1}\n",
      "0.0 False {'ale.lives': 1}\n",
      "0.0 False {'ale.lives': 1}\n",
      "0.0 False {'ale.lives': 1}\n",
      "0.0 False {'ale.lives': 1}\n",
      "0.0 False {'ale.lives': 1}\n",
      "0.0 False {'ale.lives': 1}\n",
      "0.0 False {'ale.lives': 1}\n",
      "0.0 False {'ale.lives': 1}\n",
      "0.0 False {'ale.lives': 1}\n",
      "0.0 False {'ale.lives': 1}\n",
      "0.0 False {'ale.lives': 1}\n",
      "0.0 False {'ale.lives': 1}\n",
      "0.0 False {'ale.lives': 1}\n",
      "0.0 False {'ale.lives': 1}\n",
      "0.0 False {'ale.lives': 1}\n",
      "0.0 False {'ale.lives': 1}\n",
      "0.0 False {'ale.lives': 1}\n",
      "0.0 False {'ale.lives': 1}\n",
      "0.0 False {'ale.lives': 1}\n",
      "0.0 False {'ale.lives': 1}\n",
      "0.0 False {'ale.lives': 1}\n",
      "0.0 True {'ale.lives': 0}\n",
      "BREAK***********************************\n"
     ]
    }
   ],
   "source": [
    "import time as t\n",
    "env = gym.make('Breakout-v0')\n",
    "\n",
    "for _ in range(2):\n",
    "    obs = env.reset()\n",
    "    obs = np.array(obs)\n",
    "    plt.imshow(obs)\n",
    "    plt.show()\n",
    "    I_list = []\n",
    "    print(\"NEW GAME\")\n",
    "    for time in range(1000):\n",
    "        #plot_environment(env)\n",
    "        #t.sleep(0.5)\n",
    "        frame, reward, done, info = env.step(env.action_space.sample()) # take a random action\n",
    "        if info['ale.lives'] < 5 :\n",
    "            done = True\n",
    "        print(reward, done, info)\n",
    "        I_list.append(frame)\n",
    "        if done :\n",
    "            print(\"BREAK***********************************\")\n",
    "            break\n",
    "        \"\"\"\n",
    "        print(\"time: %s\"%time)\n",
    "        plt.figure(figsize=(4,4*21/16))\n",
    "        plt.imshow(preprocessing(frame),\"gray\")\n",
    "        plt.grid(False)\n",
    "        plt.show()\n",
    "        \"\"\"\n",
    "env.close()"
   ]
  },
  {
   "cell_type": "code",
   "execution_count": 0,
   "metadata": {
    "colab": {},
    "colab_type": "code",
    "id": "9vO2Nv7VSnLb"
   },
   "outputs": [],
   "source": []
  }
 ],
 "metadata": {
  "colab": {
   "collapsed_sections": [],
   "name": "Breakout.ipynb",
   "provenance": [],
   "version": "0.3.2"
  },
  "kernelspec": {
   "display_name": "Python (GPU)",
   "language": "python",
   "name": "gpu"
  },
  "language_info": {
   "codemirror_mode": {
    "name": "ipython",
    "version": 3
   },
   "file_extension": ".py",
   "mimetype": "text/x-python",
   "name": "python",
   "nbconvert_exporter": "python",
   "pygments_lexer": "ipython3",
   "version": "3.6.5"
  }
 },
 "nbformat": 4,
 "nbformat_minor": 1
}
