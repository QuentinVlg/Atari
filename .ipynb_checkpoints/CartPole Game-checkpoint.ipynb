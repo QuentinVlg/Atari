{
 "cells": [
  {
   "cell_type": "markdown",
   "metadata": {},
   "source": [
    "# CartPole Game 🕹️"
   ]
  },
  {
   "cell_type": "markdown",
   "metadata": {},
   "source": [
    "## Packages"
   ]
  },
  {
   "cell_type": "code",
   "execution_count": 1,
   "metadata": {},
   "outputs": [
    {
     "name": "stderr",
     "output_type": "stream",
     "text": [
      "Using TensorFlow backend.\n"
     ]
    }
   ],
   "source": [
    "import random\n",
    "import gym\n",
    "import numpy as np\n",
    "from collections import deque\n",
    "from keras.models import Sequential\n",
    "from keras.layers import Dense\n",
    "from keras.optimizers import Adam"
   ]
  },
  {
   "cell_type": "markdown",
   "metadata": {},
   "source": [
    "## Class Agent"
   ]
  },
  {
   "cell_type": "code",
   "execution_count": 3,
   "metadata": {},
   "outputs": [],
   "source": [
    "class DQNAgent:\n",
    "    def __init__(self, state_size, action_size):\n",
    "        self.state_size = state_size\n",
    "        self.action_size = action_size\n",
    "        self.memory = deque(maxlen=2000)\n",
    "        self.gamma = 0.95    # discount rate\n",
    "        self.epsilon = 1.0  # exploration rate\n",
    "        self.epsilon_min = 0.01\n",
    "        self.epsilon_decay = 0.9995\n",
    "        self.learning_rate = 0.001\n",
    "        self.model = self._build_model()\n",
    "\n",
    "    def _build_model(self):\n",
    "        # Neural Net for Deep-Q learning Model\n",
    "        model = Sequential()\n",
    "        model.add(Dense(24, input_dim=self.state_size, activation='relu'))\n",
    "        model.add(Dense(24, activation='relu'))\n",
    "        model.add(Dense(self.action_size, activation='linear'))\n",
    "        model.compile(loss='mse',\n",
    "                      optimizer=Adam(lr=self.learning_rate))\n",
    "        return model\n",
    "\n",
    "    def remember(self, state, action, reward, next_state, done):\n",
    "        self.memory.append((state, action, reward, next_state, done))\n",
    "\n",
    "    def act(self, state):\n",
    "        if np.random.rand() <= self.epsilon:\n",
    "            return random.randrange(self.action_size)\n",
    "        act_values = self.model.predict(state)\n",
    "        return np.argmax(act_values[0])  # returns action\n",
    "\n",
    "    def replay(self, batch_size):\n",
    "        minibatch = random.sample(self.memory, batch_size)\n",
    "        for state, action, reward, next_state, done in minibatch:\n",
    "            target = reward\n",
    "            if not done:\n",
    "                target = (reward + self.gamma *\n",
    "                          np.amax(self.model.predict(next_state)[0]))\n",
    "            target_f = self.model.predict(state)\n",
    "            target_f[0][action] = target\n",
    "            self.model.fit(state, target_f, epochs=1, verbose=0)\n",
    "        if self.epsilon > self.epsilon_min:\n",
    "            self.epsilon *= self.epsilon_decay\n",
    "\n",
    "    def load(self, name):\n",
    "        self.model.load_weights(name)\n",
    "\n",
    "    def save(self, name):\n",
    "        self.model.save_weights(name)\n"
   ]
  },
  {
   "cell_type": "markdown",
   "metadata": {},
   "source": [
    "## Main"
   ]
  },
  {
   "cell_type": "code",
   "execution_count": 3,
   "metadata": {},
   "outputs": [],
   "source": [
    "import sys, os\n",
    "os.chdir(r'C:\\Users\\Quentin\\Documents\\5 GMM Projet\\save')  # to change the current directory"
   ]
  },
  {
   "cell_type": "code",
   "execution_count": 4,
   "metadata": {},
   "outputs": [
    {
     "name": "stdout",
     "output_type": "stream",
     "text": [
      "episode: 0/99, score: 62, e: 0.99\n",
      "episode: 1/99, score: 85, e: 0.94\n",
      "episode: 2/99, score: 22, e: 0.93\n",
      "episode: 3/99, score: 12, e: 0.93\n",
      "episode: 4/99, score: 41, e: 0.91\n",
      "episode: 5/99, score: 16, e: 0.9\n",
      "episode: 6/99, score: 30, e: 0.89\n",
      "episode: 7/99, score: 22, e: 0.88\n",
      "episode: 8/99, score: 17, e: 0.87\n",
      "episode: 9/99, score: 19, e: 0.86\n",
      "episode: 10/99, score: 9, e: 0.86\n",
      "episode: 11/99, score: 19, e: 0.85\n",
      "episode: 12/99, score: 19, e: 0.84\n",
      "episode: 13/99, score: 27, e: 0.83\n",
      "episode: 14/99, score: 14, e: 0.83\n",
      "episode: 15/99, score: 28, e: 0.81\n",
      "episode: 16/99, score: 12, e: 0.81\n",
      "episode: 17/99, score: 54, e: 0.79\n",
      "episode: 18/99, score: 15, e: 0.78\n",
      "episode: 19/99, score: 11, e: 0.78\n",
      "episode: 20/99, score: 15, e: 0.77\n",
      "episode: 21/99, score: 10, e: 0.77\n",
      "episode: 22/99, score: 31, e: 0.76\n",
      "episode: 23/99, score: 17, e: 0.75\n",
      "episode: 24/99, score: 12, e: 0.75\n",
      "episode: 25/99, score: 7, e: 0.74\n",
      "episode: 26/99, score: 8, e: 0.74\n",
      "episode: 27/99, score: 17, e: 0.73\n",
      "episode: 28/99, score: 14, e: 0.73\n",
      "episode: 29/99, score: 24, e: 0.72\n",
      "episode: 30/99, score: 36, e: 0.71\n",
      "episode: 31/99, score: 59, e: 0.69\n",
      "episode: 32/99, score: 32, e: 0.68\n",
      "episode: 33/99, score: 14, e: 0.67\n",
      "episode: 34/99, score: 13, e: 0.67\n",
      "episode: 35/99, score: 18, e: 0.66\n",
      "episode: 36/99, score: 15, e: 0.66\n",
      "episode: 37/99, score: 10, e: 0.65\n",
      "episode: 38/99, score: 40, e: 0.64\n",
      "episode: 39/99, score: 13, e: 0.64\n",
      "episode: 40/99, score: 11, e: 0.63\n",
      "episode: 41/99, score: 11, e: 0.63\n",
      "episode: 42/99, score: 21, e: 0.62\n",
      "episode: 43/99, score: 27, e: 0.61\n",
      "episode: 44/99, score: 25, e: 0.61\n",
      "episode: 45/99, score: 19, e: 0.6\n",
      "episode: 46/99, score: 31, e: 0.59\n",
      "episode: 47/99, score: 43, e: 0.58\n",
      "episode: 48/99, score: 15, e: 0.57\n",
      "episode: 49/99, score: 55, e: 0.56\n",
      "episode: 50/99, score: 53, e: 0.54\n",
      "episode: 51/99, score: 15, e: 0.54\n",
      "episode: 52/99, score: 55, e: 0.53\n",
      "episode: 53/99, score: 41, e: 0.51\n",
      "episode: 54/99, score: 48, e: 0.5\n",
      "episode: 55/99, score: 42, e: 0.49\n",
      "episode: 56/99, score: 13, e: 0.49\n",
      "episode: 57/99, score: 12, e: 0.49\n",
      "episode: 58/99, score: 37, e: 0.48\n",
      "episode: 59/99, score: 32, e: 0.47\n",
      "episode: 60/99, score: 11, e: 0.47\n",
      "episode: 61/99, score: 28, e: 0.46\n",
      "episode: 62/99, score: 13, e: 0.46\n",
      "episode: 63/99, score: 22, e: 0.45\n",
      "episode: 64/99, score: 14, e: 0.45\n",
      "episode: 65/99, score: 36, e: 0.44\n",
      "episode: 66/99, score: 10, e: 0.44\n",
      "episode: 67/99, score: 22, e: 0.43\n",
      "episode: 68/99, score: 15, e: 0.43\n",
      "episode: 69/99, score: 9, e: 0.43\n",
      "episode: 70/99, score: 23, e: 0.42\n",
      "episode: 71/99, score: 14, e: 0.42\n",
      "episode: 72/99, score: 34, e: 0.41\n",
      "episode: 73/99, score: 20, e: 0.41\n",
      "episode: 74/99, score: 32, e: 0.4\n",
      "episode: 75/99, score: 9, e: 0.4\n",
      "episode: 76/99, score: 14, e: 0.4\n",
      "episode: 77/99, score: 9, e: 0.4\n",
      "episode: 78/99, score: 10, e: 0.39\n",
      "episode: 79/99, score: 9, e: 0.39\n",
      "episode: 80/99, score: 11, e: 0.39\n",
      "episode: 81/99, score: 12, e: 0.39\n",
      "episode: 82/99, score: 22, e: 0.38\n",
      "episode: 83/99, score: 11, e: 0.38\n",
      "episode: 84/99, score: 29, e: 0.38\n",
      "episode: 85/99, score: 27, e: 0.37\n",
      "episode: 86/99, score: 13, e: 0.37\n",
      "episode: 87/99, score: 51, e: 0.36\n",
      "episode: 88/99, score: 18, e: 0.36\n",
      "episode: 89/99, score: 29, e: 0.35\n",
      "episode: 90/99, score: 11, e: 0.35\n",
      "episode: 91/99, score: 18, e: 0.35\n",
      "episode: 92/99, score: 23, e: 0.34\n",
      "episode: 93/99, score: 47, e: 0.33\n",
      "episode: 94/99, score: 16, e: 0.33\n",
      "episode: 95/99, score: 31, e: 0.33\n",
      "episode: 96/99, score: 42, e: 0.32\n",
      "episode: 97/99, score: 39, e: 0.31\n",
      "episode: 98/99, score: 27, e: 0.31\n",
      "episode: 99/99, score: 33, e: 0.3\n"
     ]
    }
   ],
   "source": [
    "EPISODES = 100\n",
    "\n",
    "env = gym.make('CartPole-v1')\n",
    "state_size = env.observation_space.shape[0]\n",
    "action_size = env.action_space.n\n",
    "agent = DQNAgent(state_size, action_size)\n",
    "#agent.load(\"cartpole-dqn.h5\")\n",
    "done = False\n",
    "batch_size = 32\n",
    "\n",
    "for e in range(EPISODES):\n",
    "    state = env.reset()\n",
    "    state = np.reshape(state, [1, state_size])\n",
    "    for time in range(500):\n",
    "        env.render()\n",
    "        action = agent.act(state)\n",
    "        next_state, reward, done, _ = env.step(action)\n",
    "        reward = reward if not done else -10\n",
    "        next_state = np.reshape(next_state, [1, state_size])\n",
    "        agent.remember(state, action, reward, next_state, done)\n",
    "        state = next_state\n",
    "        if done:\n",
    "            print(\"episode: {}/{}, score: {}, e: {:.2}\"\n",
    "                  .format(e, EPISODES-1, time, agent.epsilon))\n",
    "            break\n",
    "        if len(agent.memory) > batch_size:\n",
    "            agent.replay(batch_size)\n",
    "    if e % 10 == 0:\n",
    "        agent.save(\"cartpole-dqn.h5\")\n",
    "env.close()"
   ]
  },
  {
   "cell_type": "code",
   "execution_count": null,
   "metadata": {},
   "outputs": [],
   "source": []
  },
  {
   "cell_type": "code",
   "execution_count": null,
   "metadata": {},
   "outputs": [],
   "source": []
  }
 ],
 "metadata": {
  "kernelspec": {
   "display_name": "Python 3",
   "language": "python",
   "name": "python3"
  },
  "language_info": {
   "codemirror_mode": {
    "name": "ipython",
    "version": 3
   },
   "file_extension": ".py",
   "mimetype": "text/x-python",
   "name": "python",
   "nbconvert_exporter": "python",
   "pygments_lexer": "ipython3",
   "version": "3.6.5"
  }
 },
 "nbformat": 4,
 "nbformat_minor": 2
}
