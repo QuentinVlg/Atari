{
 "cells": [
  {
   "cell_type": "markdown",
   "metadata": {
    "colab_type": "text",
    "id": "vEbPyfB0ukoh"
   },
   "source": [
    "# Breakout Test 🎮🕹️\n",
    "\n",
    "\n",
    "## Packages"
   ]
  },
  {
   "cell_type": "code",
   "execution_count": 17,
   "metadata": {
    "colab": {},
    "colab_type": "code",
    "id": "X1_rxWxBen-M"
   },
   "outputs": [],
   "source": [
    "#!pip install gym[atari]"
   ]
  },
  {
   "cell_type": "code",
   "execution_count": 1,
   "metadata": {
    "colab": {},
    "colab_type": "code",
    "id": "kHSYEB5wuoVE"
   },
   "outputs": [
    {
     "name": "stderr",
     "output_type": "stream",
     "text": [
      "/usr/local/insa/anaconda/envs/GPU/lib/python3.6/site-packages/h5py/__init__.py:36: FutureWarning: Conversion of the second argument of issubdtype from `float` to `np.floating` is deprecated. In future, it will be treated as `np.float64 == np.dtype(float).type`.\n",
      "  from ._conv import register_converters as _register_converters\n",
      "Using TensorFlow backend.\n"
     ]
    }
   ],
   "source": [
    "import random\n",
    "import gym\n",
    "import numpy as np\n",
    "import matplotlib.pyplot as plt \n",
    "import time\n",
    "from collections import deque\n",
    "from keras.models import Sequential\n",
    "from keras.layers import Dense, Flatten\n",
    "from keras.layers import Activation, Convolution2D, Permute\n",
    "from keras.optimizers import Adam"
   ]
  },
  {
   "cell_type": "markdown",
   "metadata": {
    "colab_type": "text",
    "id": "2sWIt0nL3ZPQ"
   },
   "source": [
    "### Current directory setting"
   ]
  },
  {
   "cell_type": "code",
   "execution_count": 2,
   "metadata": {
    "colab": {
     "base_uri": "https://localhost:8080/",
     "height": 74
    },
    "colab_type": "code",
    "id": "FAhl07VD1_c_",
    "outputId": "1d1234f3-4d8b-45a6-991d-bd43f60e1d75"
   },
   "outputs": [],
   "source": [
    "import os\n",
    "if os.getcwd()[:8] == \"/content\" : \n",
    "    # Google Drive\n",
    "    from google.colab import drive\n",
    "    drive.mount('/content/drive/')\n",
    "    os.chdir('/content/drive/My Drive/Colab Notebooks/Atari')\n",
    "    !ls\n",
    "else :\n",
    "    # Linux INSA\n",
    "    save = \"/home/villegas/Documents/projet_5gmm/Atari/save\"\n",
    "    os.chdir(save)"
   ]
  },
  {
   "cell_type": "markdown",
   "metadata": {
    "colab_type": "text",
    "id": "VmBsgLBKu61a"
   },
   "source": [
    "## Class Agent"
   ]
  },
  {
   "cell_type": "code",
   "execution_count": 3,
   "metadata": {
    "colab": {},
    "colab_type": "code",
    "id": "PkDxhKc5vA6A"
   },
   "outputs": [],
   "source": [
    "class DQN_Breakout_Agent_Test:\n",
    "    def __init__(self, weights_file):\n",
    "        self.samples_frame_size = 4\n",
    "        self.state_size = (self.samples_frame_size, 84, 74)\n",
    "        self.action_size = 4\n",
    "        self.model = self._build_model(weights_file)\n",
    "        self.current_state = deque(maxlen=self.samples_frame_size) # processing batch of frames\n",
    "\n",
    "    def _build_model(self, weights_file):\n",
    "        # Neural Net for Deep-Q learning Model\n",
    "        model = Sequential()\n",
    "        # Permute change 4x84x74 to 84x74x4\n",
    "        model.add(Permute((2, 3, 1), input_shape=self.state_size))\n",
    "        model.add(Convolution2D(32, (8, 8), strides=(4, 4)))\n",
    "        model.add(Activation('relu'))\n",
    "        model.add(Convolution2D(64, (4, 4), strides=(2, 2)))\n",
    "        model.add(Activation('relu'))\n",
    "        model.add(Convolution2D(64, (3, 3), strides=(1, 1)))\n",
    "        model.add(Activation('relu'))\n",
    "        model.add(Flatten())\n",
    "        model.add(Dense(512))\n",
    "        model.add(Activation('relu'))\n",
    "        model.add(Dense(4))\n",
    "        model.add(Activation('linear'))\n",
    "        model.compile(loss='mse',optimizer=Adam(lr=0.00025))\n",
    "        # Load weights file\n",
    "        model.load_weights(weights_file)\n",
    "        return model\n",
    "\n",
    "    def act(self, state):\n",
    "        batch_state = deque_to_batch(state)\n",
    "        act_values = self.model.predict(batch_state) # Keras need a 1x4x84x74 batch\n",
    "        return np.argmax(act_values[0])  # returns action ()\n",
    "    \n",
    "    # On initialise en écrasant tout     \n",
    "    def init_current_state(self, frm):\n",
    "        for i in range(self.samples_frame_size):\n",
    "            self.current_state.append(frm)\n",
    "        return self.current_state\n",
    "    \n",
    "    # update the 4 current batch frames\n",
    "    def update_current_state(self, next_frame):\n",
    "        self.current_state.append(next_frame)\n",
    "        return self.current_state"
   ]
  },
  {
   "cell_type": "markdown",
   "metadata": {
    "colab_type": "text",
    "id": "wgnITQvU61AS"
   },
   "source": [
    "## New fonctions"
   ]
  },
  {
   "cell_type": "code",
   "execution_count": 4,
   "metadata": {
    "colab": {},
    "colab_type": "code",
    "id": "v3bARQla61Gb"
   },
   "outputs": [],
   "source": [
    "def preprocessing(img):\n",
    "    \"\"\"\n",
    "    Gray-scale, reduce edges and down-sampling img to a 84×74 image\n",
    "    \"\"\"\n",
    "    return np.mean(img, axis=2)[30:-12,6:-6][::2,::2].astype(np.uint8)\n",
    "\n",
    "def reward_clipping(reward):\n",
    "    \"\"\"\n",
    "    reward: negative -> -1; positive -> +1\n",
    "    \"\"\"\n",
    "    return np.sign(reward)\n",
    "\n",
    "def deque_to_batch(deque):\n",
    "    \"\"\"\n",
    "    from frame_stack 4x84x74 to normalized batch 1x4x84x74\n",
    "    \"\"\"\n",
    "    array_frame_stack = np.array(deque)              # convert deque into 4x84x74 array\n",
    "    array_frame_stack = array_frame_stack.astype('float32') / 255. # normalize from [0,255] to [0,1]\n",
    "    return np.expand_dims(array_frame_stack, axis=0) # add one dimension: 1x4x84x74 array"
   ]
  },
  {
   "cell_type": "markdown",
   "metadata": {
    "colab_type": "text",
    "id": "J20zUd7kfTm4"
   },
   "source": [
    "## Main"
   ]
  },
  {
   "cell_type": "code",
   "execution_count": 5,
   "metadata": {
    "colab": {
     "base_uri": "https://localhost:8080/",
     "height": 105
    },
    "colab_type": "code",
    "id": "MpYuPMxOfZ66",
    "outputId": "f3213648-485e-4f33-d0e5-b2d02212ec50"
   },
   "outputs": [
    {
     "name": "stdout",
     "output_type": "stream",
     "text": [
      "State size : (210, 160, 3)\n",
      "Action size : 4\n"
     ]
    }
   ],
   "source": [
    "env = gym.make('Breakout-v4')\n",
    "print(\"State size : %s\\nAction size : %s\"%(env.observation_space.shape,env.action_space.n))"
   ]
  },
  {
   "cell_type": "code",
   "execution_count": null,
   "metadata": {
    "colab": {
     "base_uri": "https://localhost:8080/",
     "height": 85
    },
    "colab_type": "code",
    "id": "tB9geWjBfTtR",
    "outputId": "d3ac5918-dc0f-4c6e-affa-9f69d4ef5dc7",
    "scrolled": true
   },
   "outputs": [],
   "source": [
    "weights_file = \"dqn_breakout_weights_240000.h5f\"\n",
    "agent = DQN_Breakout_Agent_Test(weights_file = weights_file)\n",
    "\n",
    "TIME_LIMIT = int(1e8)\n",
    "ONE_LIFE = True\n",
    "RENDER = True\n",
    "done = False\n",
    "sleep = 0.05\n",
    "score = 0\n",
    "life = 5\n",
    "\n",
    "color_frame = env.reset()\n",
    "frame = preprocessing(color_frame)\n",
    "state = agent.init_current_state(frame) # Pour avoit un deque initiale 4x84x74\n",
    "\n",
    "for step in range(TIME_LIMIT):\n",
    "    if RENDER : \n",
    "        env.render()  \n",
    "        time.sleep(sleep) # wait sleep seconds between each step\n",
    "        \n",
    "    action = agent.act(state)\n",
    "    color_next_frame, reward, done, info = env.step(action) # take a action\n",
    "    \n",
    "    if info['ale.lives'] != life :\n",
    "        print(\"Fin de la partie %s, score : %s\"%(5-life,score))\n",
    "        score = 0\n",
    "    # update the current life counter\n",
    "    life = info['ale.lives']\n",
    "\n",
    "    # Dès qu'on perd une vie sur les 5, on considère qu'on a perdu\n",
    "    if info['ale.lives'] < 5 and ONE_LIFE :\n",
    "        done = True\n",
    "\n",
    "    # Stop the current game if it's done\n",
    "    if done : break\n",
    "\n",
    "    # clips rewards to 1 or -1\n",
    "    reward = reward_clipping(reward)\n",
    "    if reward > 0 : score += 1\n",
    "\n",
    "    # image preprocessing\n",
    "    next_frame = preprocessing(color_next_frame) \n",
    "\n",
    "    # update the current state 4x84x74\n",
    "    state = agent.update_current_state(next_frame)\n",
    "        \n",
    "env.close()"
   ]
  },
  {
   "cell_type": "code",
   "execution_count": null,
   "metadata": {},
   "outputs": [],
   "source": []
  },
  {
   "cell_type": "code",
   "execution_count": 4,
   "metadata": {},
   "outputs": [
    {
     "name": "stdout",
     "output_type": "stream",
     "text": [
      "State size : (210, 160, 3)\n",
      "Action size : 4\n"
     ]
    }
   ],
   "source": [
    "import random\n",
    "import gym\n",
    "import numpy as np\n",
    "import matplotlib.pyplot as plt \n",
    "import time\n",
    "from collections import deque\n",
    "from keras.models import Sequential\n",
    "from keras.layers import Dense, Flatten\n",
    "from keras.layers import Activation, Convolution2D, Permute\n",
    "from keras.optimizers import Adam\n",
    "env = gym.make('Breakout-v4')\n",
    "print(\"State size : %s\\nAction size : %s\"%(env.observation_space.shape,env.action_space.n))"
   ]
  },
  {
   "cell_type": "code",
   "execution_count": 5,
   "metadata": {},
   "outputs": [
    {
     "ename": "NameError",
     "evalue": "name 'preprocessing' is not defined",
     "output_type": "error",
     "traceback": [
      "\u001b[0;31m---------------------------------------------------------------------------\u001b[0m",
      "\u001b[0;31mNameError\u001b[0m                                 Traceback (most recent call last)",
      "\u001b[0;32m<ipython-input-5-9c489586b186>\u001b[0m in \u001b[0;36m<module>\u001b[0;34m()\u001b[0m\n\u001b[1;32m     19\u001b[0m \u001b[0;34m\u001b[0m\u001b[0m\n\u001b[1;32m     20\u001b[0m \u001b[0mcolor_frame\u001b[0m \u001b[0;34m=\u001b[0m \u001b[0menv\u001b[0m\u001b[0;34m.\u001b[0m\u001b[0mreset\u001b[0m\u001b[0;34m(\u001b[0m\u001b[0;34m)\u001b[0m\u001b[0;34m\u001b[0m\u001b[0m\n\u001b[0;32m---> 21\u001b[0;31m \u001b[0mframe\u001b[0m \u001b[0;34m=\u001b[0m \u001b[0mpreprocessing\u001b[0m\u001b[0;34m(\u001b[0m\u001b[0mcolor_frame\u001b[0m\u001b[0;34m)\u001b[0m\u001b[0;34m\u001b[0m\u001b[0m\n\u001b[0m\u001b[1;32m     22\u001b[0m \u001b[0;32mfor\u001b[0m \u001b[0mi\u001b[0m \u001b[0;32min\u001b[0m \u001b[0mrange\u001b[0m\u001b[0;34m(\u001b[0m\u001b[0;36m4\u001b[0m\u001b[0;34m)\u001b[0m\u001b[0;34m:\u001b[0m\u001b[0;34m\u001b[0m\u001b[0m\n\u001b[1;32m     23\u001b[0m     \u001b[0mcurrent_state\u001b[0m\u001b[0;34m.\u001b[0m\u001b[0mappend\u001b[0m\u001b[0;34m(\u001b[0m\u001b[0mframe\u001b[0m\u001b[0;34m)\u001b[0m\u001b[0;34m\u001b[0m\u001b[0m\n",
      "\u001b[0;31mNameError\u001b[0m: name 'preprocessing' is not defined"
     ]
    }
   ],
   "source": [
    "model = Sequential()\n",
    "# Permute change 4x84x74 to 84x74x4\n",
    "model.add(Permute((2, 3, 1), input_shape=(4,84,74)))\n",
    "model.add(Convolution2D(32, (8, 8), strides=(4, 4)))\n",
    "model.add(Activation('relu'))\n",
    "model.add(Convolution2D(64, (4, 4), strides=(2, 2)))\n",
    "model.add(Activation('relu'))\n",
    "model.add(Convolution2D(64, (3, 3), strides=(1, 1)))\n",
    "model.add(Activation('relu'))\n",
    "model.add(Flatten())\n",
    "model.add(Dense(512))\n",
    "model.add(Activation('relu'))\n",
    "model.add(Dense(4))\n",
    "model.add(Activation('linear'))\n",
    "# Load weights file\n",
    "#model.load_weights(weights_file)\n",
    "\n",
    "current_state = deque(maxlen=4) # processing batch of frames\n",
    "\n",
    "color_frame = env.reset()\n",
    "frame = preprocessing(color_frame)\n",
    "for i in range(4):\n",
    "    current_state.append(frame)\n",
    "state = current_state\n",
    "\n",
    "batch_state = deque_to_batch(state)\n",
    "print(batch_state.shape)\n",
    "print(type(batch_state))\n",
    "act_values = model.predict(batch_state) # Keras need a 1x4x84x74 batch\n",
    "arg = np.argmax(act_values[0])  # returns action ()"
   ]
  },
  {
   "cell_type": "code",
   "execution_count": null,
   "metadata": {},
   "outputs": [],
   "source": []
  },
  {
   "cell_type": "code",
   "execution_count": null,
   "metadata": {},
   "outputs": [],
   "source": []
  }
 ],
 "metadata": {
  "accelerator": "GPU",
  "colab": {
   "collapsed_sections": [],
   "name": "Breakout.ipynb",
   "provenance": [],
   "version": "0.3.2"
  },
  "kernelspec": {
   "display_name": "Python (GPU)",
   "language": "python",
   "name": "gpu"
  },
  "language_info": {
   "codemirror_mode": {
    "name": "ipython",
    "version": 3
   },
   "file_extension": ".py",
   "mimetype": "text/x-python",
   "name": "python",
   "nbconvert_exporter": "python",
   "pygments_lexer": "ipython3",
   "version": "3.6.5"
  }
 },
 "nbformat": 4,
 "nbformat_minor": 1
}
