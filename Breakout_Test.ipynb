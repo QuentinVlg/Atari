{
 "cells": [
  {
   "cell_type": "markdown",
   "metadata": {
    "colab_type": "text",
    "id": "vEbPyfB0ukoh"
   },
   "source": [
    "# Breakout Test 🎮🕹️\n",
    "\n",
    "\n",
    "## Packages"
   ]
  },
  {
   "cell_type": "code",
   "execution_count": 1,
   "metadata": {
    "colab": {},
    "colab_type": "code",
    "id": "X1_rxWxBen-M"
   },
   "outputs": [],
   "source": [
    "#!pip install gym[atari]"
   ]
  },
  {
   "cell_type": "code",
   "execution_count": 2,
   "metadata": {
    "colab": {
     "base_uri": "https://localhost:8080/",
     "height": 34
    },
    "colab_type": "code",
    "executionInfo": {
     "elapsed": 5593,
     "status": "ok",
     "timestamp": 1545141914220,
     "user": {
      "displayName": "Quentin Vil",
      "photoUrl": "https://lh5.googleusercontent.com/-1cI8uf3FRWE/AAAAAAAAAAI/AAAAAAAAACQ/kWF5gvra_xk/s64/photo.jpg",
      "userId": "09179496519669871332"
     },
     "user_tz": -60
    },
    "id": "kHSYEB5wuoVE",
    "outputId": "1e2652db-0cda-4966-84f0-63aedd464076"
   },
   "outputs": [
    {
     "name": "stderr",
     "output_type": "stream",
     "text": [
      "/usr/local/insa/anaconda/envs/GPU/lib/python3.6/site-packages/h5py/__init__.py:36: FutureWarning: Conversion of the second argument of issubdtype from `float` to `np.floating` is deprecated. In future, it will be treated as `np.float64 == np.dtype(float).type`.\n",
      "  from ._conv import register_converters as _register_converters\n",
      "Using TensorFlow backend.\n"
     ]
    }
   ],
   "source": [
    "import random\n",
    "import gym\n",
    "import numpy as np\n",
    "import matplotlib.pyplot as plt \n",
    "import time\n",
    "from collections import deque\n",
    "from keras.models import Sequential\n",
    "from keras.layers import Dense, Flatten\n",
    "from keras.layers import Activation, Convolution2D, Permute\n",
    "from keras.optimizers import Adam"
   ]
  },
  {
   "cell_type": "markdown",
   "metadata": {
    "colab_type": "text",
    "id": "2sWIt0nL3ZPQ"
   },
   "source": [
    "### Current directory setting"
   ]
  },
  {
   "cell_type": "code",
   "execution_count": 3,
   "metadata": {
    "colab": {
     "base_uri": "https://localhost:8080/",
     "height": 228
    },
    "colab_type": "code",
    "executionInfo": {
     "elapsed": 1542,
     "status": "ok",
     "timestamp": 1545141938301,
     "user": {
      "displayName": "Quentin Vil",
      "photoUrl": "https://lh5.googleusercontent.com/-1cI8uf3FRWE/AAAAAAAAAAI/AAAAAAAAACQ/kWF5gvra_xk/s64/photo.jpg",
      "userId": "09179496519669871332"
     },
     "user_tz": -60
    },
    "id": "FAhl07VD1_c_",
    "outputId": "b879fcb6-f272-4dfd-cbcd-987008c831f1"
   },
   "outputs": [],
   "source": [
    "import os\n",
    "if os.getcwd()[:8] == \"/content\" : \n",
    "    # Google Drive\n",
    "    from google.colab import drive\n",
    "    drive.mount('/content/drive/')\n",
    "    os.chdir('/content/drive/My Drive/Colab Notebooks/Atari')\n",
    "    !ls\n",
    "else :\n",
    "    # Linux INSA\n",
    "    save = \"/home/villegas/Documents/projet_5gmm/Atari/save\"\n",
    "    os.chdir(save)"
   ]
  },
  {
   "cell_type": "markdown",
   "metadata": {
    "colab_type": "text",
    "id": "VmBsgLBKu61a"
   },
   "source": [
    "## Class Agent"
   ]
  },
  {
   "cell_type": "code",
   "execution_count": 4,
   "metadata": {
    "colab": {},
    "colab_type": "code",
    "id": "PkDxhKc5vA6A"
   },
   "outputs": [],
   "source": [
    "class DQN_Breakout_Agent_Test:\n",
    "    def __init__(self, weights_file):\n",
    "        self.samples_frame_size = 4\n",
    "        self.state_size = (self.samples_frame_size, 84, 74)\n",
    "        self.action_size = 4\n",
    "        self.model = self._build_model(weights_file)\n",
    "        self.current_state = deque(maxlen=self.samples_frame_size) # processing batch of frames\n",
    "\n",
    "    def _build_model(self, weights_file):\n",
    "        # Neural Net for Deep-Q learning Model\n",
    "        model = Sequential()\n",
    "        # Permute change 4x84x74 to 84x74x4\n",
    "        model.add(Permute((2, 3, 1), input_shape=self.state_size))\n",
    "        model.add(Convolution2D(32, (8, 8), strides=(4, 4)))\n",
    "        model.add(Activation('relu'))\n",
    "        model.add(Convolution2D(64, (4, 4), strides=(2, 2)))\n",
    "        model.add(Activation('relu'))\n",
    "        model.add(Convolution2D(64, (3, 3), strides=(1, 1)))\n",
    "        model.add(Activation('relu'))\n",
    "        model.add(Flatten())\n",
    "        model.add(Dense(512))\n",
    "        model.add(Activation('relu'))\n",
    "        model.add(Dense(4))\n",
    "        model.add(Activation('linear'))\n",
    "        model.compile(loss='mse',optimizer=Adam(lr=0.00025))\n",
    "        # Load weights file\n",
    "        model.load_weights(weights_file)\n",
    "        return model\n",
    "\n",
    "    def act(self, state):\n",
    "        batch_state = deque_to_batch(state)\n",
    "        act_values = self.model.predict(batch_state) # Keras need a 1x4x84x74 batch\n",
    "        return np.argmax(act_values[0])  # returns action ()\n",
    "    \n",
    "    # On initialise en écrasant tout     \n",
    "    def init_current_state(self, frm):\n",
    "        for i in range(self.samples_frame_size):\n",
    "            self.current_state.append(frm)\n",
    "        return self.current_state\n",
    "    \n",
    "    # update the 4 current batch frames\n",
    "    def update_current_state(self, next_frame):\n",
    "        self.current_state.append(next_frame)\n",
    "        return self.current_state"
   ]
  },
  {
   "cell_type": "markdown",
   "metadata": {
    "colab_type": "text",
    "id": "wgnITQvU61AS"
   },
   "source": [
    "## New fonctions"
   ]
  },
  {
   "cell_type": "code",
   "execution_count": 5,
   "metadata": {
    "colab": {},
    "colab_type": "code",
    "id": "v3bARQla61Gb"
   },
   "outputs": [],
   "source": [
    "def preprocessing(img):\n",
    "    \"\"\"\n",
    "    Gray-scale, reduce edges and down-sampling img to a 84×74 image\n",
    "    \"\"\"\n",
    "    return np.mean(img, axis=2)[30:-12,6:-6][::2,::2].astype(np.uint8)\n",
    "\n",
    "def reward_clipping(reward):\n",
    "    \"\"\"\n",
    "    reward: negative -> -1; positive -> +1\n",
    "    \"\"\"\n",
    "    return np.sign(reward)\n",
    "\n",
    "def deque_to_batch(deque):\n",
    "    \"\"\"\n",
    "    from frame_stack 4x84x74 to normalized batch 1x4x84x74\n",
    "    \"\"\"\n",
    "    array_frame_stack = np.array(deque)              # convert deque into 4x84x74 array\n",
    "    array_frame_stack = array_frame_stack.astype('float32') / 255. # normalize from [0,255] to [0,1]\n",
    "    return np.expand_dims(array_frame_stack, axis=0) # add one dimension: 1x4x84x74 array"
   ]
  },
  {
   "cell_type": "markdown",
   "metadata": {},
   "source": [
    "## Main"
   ]
  },
  {
   "cell_type": "code",
   "execution_count": 6,
   "metadata": {
    "colab": {
     "base_uri": "https://localhost:8080/",
     "height": 106
    },
    "colab_type": "code",
    "executionInfo": {
     "elapsed": 549,
     "status": "ok",
     "timestamp": 1545141970440,
     "user": {
      "displayName": "Quentin Vil",
      "photoUrl": "https://lh5.googleusercontent.com/-1cI8uf3FRWE/AAAAAAAAAAI/AAAAAAAAACQ/kWF5gvra_xk/s64/photo.jpg",
      "userId": "09179496519669871332"
     },
     "user_tz": -60
    },
    "id": "MpYuPMxOfZ66",
    "outputId": "835e46e3-ccd7-4df9-db4a-8cc3cb83bf4b"
   },
   "outputs": [
    {
     "name": "stdout",
     "output_type": "stream",
     "text": [
      "State size : (210, 160, 3)\n",
      "Action size : 4\n"
     ]
    }
   ],
   "source": [
    "env = gym.make('Breakout-v4')\n",
    "print(\"State size : %s\\nAction size : %s\"%(env.observation_space.shape,env.action_space.n))"
   ]
  },
  {
   "cell_type": "code",
   "execution_count": 17,
   "metadata": {
    "colab": {
     "base_uri": "https://localhost:8080/",
     "height": 153214,
     "output_embedded_package_id": "19c_L9xSywp6q49pnG_C9za2rkjj32uTN"
    },
    "colab_type": "code",
    "executionInfo": {
     "elapsed": 102952,
     "status": "ok",
     "timestamp": 1545142973611,
     "user": {
      "displayName": "Quentin Vil",
      "photoUrl": "https://lh5.googleusercontent.com/-1cI8uf3FRWE/AAAAAAAAAAI/AAAAAAAAACQ/kWF5gvra_xk/s64/photo.jpg",
      "userId": "09179496519669871332"
     },
     "user_tz": -60
    },
    "id": "tB9geWjBfTtR",
    "outputId": "7c8c9cd2-0046-4bdb-f2a8-d8f0ae1b38da",
    "scrolled": true
   },
   "outputs": [
    {
     "name": "stdout",
     "output_type": "stream",
     "text": [
      "Fin de la partie 1, score : 13\n",
      "Fin de la partie 2, score : 4\n",
      "Fin de la partie 3, score : 5\n",
      "Fin de la partie 4, score : 5\n",
      "Fin de la partie 5, score : 1\n"
     ]
    }
   ],
   "source": [
    "weights_file = \"dqn_breakout_weights_2_1480000.h5f\"\n",
    "agent = DQN_Breakout_Agent_Test(weights_file = weights_file)\n",
    "\n",
    "TIME_LIMIT = int(1e4)\n",
    "ONE_LIFE = False\n",
    "RENDER = False\n",
    "IMSHOW = False\n",
    "done = False\n",
    "sleep = 0.01\n",
    "score = 0\n",
    "life = 5\n",
    "\n",
    "color_frame = env.reset()\n",
    "frame = preprocessing(color_frame)\n",
    "state = agent.init_current_state(frame) # Pour avoit un deque initiale 4x84x74\n",
    "\n",
    "step_tmp = 0\n",
    "for step in range(TIME_LIMIT):\n",
    "    step_tmp += 1\n",
    "    # if step%20 ==0 : print(\"Step: %s, score: %s, life: %s\"%(step,score,life))\n",
    "    \n",
    "    if RENDER : \n",
    "        env.render()  \n",
    "        time.sleep(sleep) # wait sleep seconds between each step\n",
    "        \n",
    "    action = agent.act(state)\n",
    "    if step_tmp < 3 : action = 1 # To force the agent to start the game\n",
    "    color_next_frame, reward, done, info = env.step(action) # take a action\n",
    "    \n",
    "    if IMSHOW :\n",
    "        plt.imshow(color_next_frame)\n",
    "        plt.show()\n",
    "    \n",
    "    if info['ale.lives'] != life :\n",
    "        print(\"Fin de la partie %s, score : %s\"%(6-life,score))\n",
    "        score = 0\n",
    "        step_tmp = 0\n",
    "    # update the current life counter\n",
    "    life = info['ale.lives']\n",
    "\n",
    "    # Dès qu'on perd une vie sur les 5, on considère qu'on a perdu\n",
    "    if info['ale.lives'] < 5 and ONE_LIFE :\n",
    "        done = True\n",
    "\n",
    "    # Stop the current game if it's done\n",
    "    if done : break\n",
    "\n",
    "    # clips rewards to 1 or -1\n",
    "    reward = reward_clipping(reward)\n",
    "    if reward > 0 : score += 1\n",
    "\n",
    "    # image preprocessing\n",
    "    next_frame = preprocessing(color_next_frame) \n",
    "\n",
    "    # update the current state 4x84x74\n",
    "    state = agent.update_current_state(next_frame)\n",
    "        \n",
    "env.close()"
   ]
  },
  {
   "cell_type": "markdown",
   "metadata": {
    "colab_type": "text",
    "id": "J20zUd7kfTm4"
   },
   "source": [
    "## Create a GIF from \"save_image\" file"
   ]
  },
  {
   "cell_type": "code",
   "execution_count": 138,
   "metadata": {
    "scrolled": true
   },
   "outputs": [
    {
     "name": "stderr",
     "output_type": "stream",
     "text": [
      "MovieWriter ffmpeg unavailable.\n"
     ]
    },
    {
     "data": {
      "image/png": "[encoded data removed]",
      "text/plain": [
       "<Figure size 288x410.4 with 1 Axes>"
      ]
     },
     "metadata": {},
     "output_type": "display_data"
    }
   ],
   "source": [
    "import matplotlib.animation as anim\n",
    "action_set = [\"NOOP\",\"FIRE\",\"RIGHT\",\"LEFT\"]\n",
    "\n",
    "with open('save_image2', 'rb') as fichier:\n",
    "    my_depickler = pickle.Unpickler(fichier)\n",
    "    file_result = my_depickler.load() \n",
    "\n",
    "class AnimatedGif:\n",
    "    # Initialization\n",
    "    def __init__(self, size=(640, 480)):\n",
    "        self.fig = plt.figure()\n",
    "        self.fig.set_size_inches(size[0] / 40, size[1] / 40) # To change the final \".GIF\" size\n",
    "        ax = self.fig.add_axes([0, 0, 1, 1], frameon=False, aspect=1)\n",
    "        ax.set_xticks([])\n",
    "        ax.set_yticks([])\n",
    "        self.images = []\n",
    " \n",
    "    # Adding the image with 'with_action' option to add action text decision\n",
    "    def add(self, image, with_action=False, action=''):\n",
    "        plt_txt = []\n",
    "        if not with_action :\n",
    "            plt_im = plt.imshow(image, cmap='Greys', vmin=0, vmax=1, animated=True)\n",
    "        else :\n",
    "            # Adding the bottom with futur text on it\n",
    "            img = np.uint8(np.zeros((210+18, 160, 3)))\n",
    "            img[:-18] = image\n",
    "            plt_im = plt.imshow(img, cmap='Greys', vmin=0, vmax=1, animated=True)\n",
    "            for act in action_set :\n",
    "                # Plot the 4 \"NOOP\",\"FIRE\",\"RIGHT\",\"LEFT\" with the chosen one in Bold Red police\n",
    "                if action == act :\n",
    "                    plt_txt.append(plt.text(2 + 41 * action_set.index(act)-5*(act==\"RIGHT\")+1*(act==\"Fire\"), 220, act, color='r', fontsize=21,fontweight=\"bold\"))\n",
    "                else :\n",
    "                    plt_txt.append(plt.text(4 + 41 * action_set.index(act)-5*(act==\"RIGHT\")+1*(act==\"Fire\"), 220, act, color='gray', fontsize=21))\n",
    "        \n",
    "        self.images.append([plt_im] + plt_txt)\n",
    " \n",
    "    def save(self, filename):\n",
    "        animation = anim.ArtistAnimation(self.fig, self.images)\n",
    "        animation.save(filename, fps=5) # FPS for frame per second on the final .GIF\n",
    "\n",
    "### HERE ANIMATION ###\n",
    "        \n",
    "with_action = True\n",
    "        \n",
    "animated = AnimatedGif(size=(160, 210+18*with_action))\n",
    "for i in file_result :\n",
    "    if i > 400 : break\n",
    "    animated.add(file_result[i][\"img\"], with_action, action=file_result[i][\"action\"])\n",
    "\n",
    "animated.save('Grad-CAM-v3.gif')"
   ]
  }
 ],
 "metadata": {
  "accelerator": "GPU",
  "colab": {
   "collapsed_sections": [],
   "name": "Breakout_Test.ipynb",
   "provenance": [],
   "toc_visible": true,
   "version": "0.3.2"
  },
  "kernelspec": {
   "display_name": "Python (GPU)",
   "language": "python",
   "name": "gpu"
  },
  "language_info": {
   "codemirror_mode": {
    "name": "ipython",
    "version": 3
   },
   "file_extension": ".py",
   "mimetype": "text/x-python",
   "name": "python",
   "nbconvert_exporter": "python",
   "pygments_lexer": "ipython3",
   "version": "3.6.5"
  }
 },
 "nbformat": 4,
 "nbformat_minor": 1
}
